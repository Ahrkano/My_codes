{
 "cells": [
  {
   "cell_type": "code",
   "execution_count": 38,
   "metadata": {},
   "outputs": [],
   "source": [
    "from contextlib import redirect_stdout\n",
    "\n",
    "def pascal_triangle(row):\n",
    "    list=[1]\n",
    "\n",
    "    for i in range(row):\n",
    "        print(list)\n",
    "        newlist=[]\n",
    "        newlist.append(list[0])\n",
    "        for i in range(len(list)-1):\n",
    "            newlist.append(list[i]+list[i+1])\n",
    "        newlist.append(list[-1])\n",
    "        list=newlist\n",
    "        \n",
    "with open(\"triangle.out\", \"w\", encoding=\"utf-8\") as out:\n",
    "        with redirect_stdout(out):\n",
    "            print(pascal_triangle(200))"
   ]
  }
 ],
 "metadata": {
  "kernelspec": {
   "display_name": "Python 3",
   "language": "python",
   "name": "python3"
  },
  "language_info": {
   "codemirror_mode": {
    "name": "ipython",
    "version": 3
   },
   "file_extension": ".py",
   "mimetype": "text/x-python",
   "name": "python",
   "nbconvert_exporter": "python",
   "pygments_lexer": "ipython3",
   "version": "3.6.4"
  }
 },
 "nbformat": 4,
 "nbformat_minor": 2
}
