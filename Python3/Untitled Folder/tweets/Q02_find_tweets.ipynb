{
 "cells": [
  {
   "cell_type": "code",
   "execution_count": 24,
   "metadata": {},
   "outputs": [],
   "source": [
    "import re\n",
    "from contextlib import redirect_stdout\n",
    "\n",
    "#apenas URL's validas com potencial de serem fake news\n",
    "pattern = re.compile(r'(RT (\\W\\w+)).*(https\\W+t.co/\\w+)')\n",
    "tweets = []\n",
    "\n",
    "with open(\"tweets.in\", encoding=\"utf-8\") as f:\n",
    "    for line in f.readlines():\n",
    "        match = pattern.match(line)\n",
    "        if match != None:\n",
    "            string = match.group(2)+'\\t'+match.group(3)\n",
    "            tweets.append(string)\n",
    "    tweets.sort()\n",
    "\n",
    "with open(\"tweets.out\", \"w\", encoding=\"utf-8\") as f:\n",
    "    with redirect_stdout(f):\n",
    "        print(\"\\n\".join(tweets))"
   ]
  },
  {
   "cell_type": "code",
   "execution_count": null,
   "metadata": {},
   "outputs": [],
   "source": []
  }
 ],
 "metadata": {
  "kernelspec": {
   "display_name": "Python 3",
   "language": "python",
   "name": "python3"
  },
  "language_info": {
   "codemirror_mode": {
    "name": "ipython",
    "version": 3
   },
   "file_extension": ".py",
   "mimetype": "text/x-python",
   "name": "python",
   "nbconvert_exporter": "python",
   "pygments_lexer": "ipython3",
   "version": "3.6.4"
  }
 },
 "nbformat": 4,
 "nbformat_minor": 2
}
