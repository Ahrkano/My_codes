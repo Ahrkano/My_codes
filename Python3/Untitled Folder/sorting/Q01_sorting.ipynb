{
 "cells": [
  {
   "cell_type": "code",
   "execution_count": 5,
   "metadata": {},
   "outputs": [],
   "source": [
    "from contextlib import redirect_stdout\n",
    "import locale\n",
    "\n",
    "locale.setlocale(locale.LC_ALL, 'pt_BR.UTF-8')\n",
    "#locale.setlocale(locale.LC_ALL, 'pt_BR')\n",
    "\n",
    "with open(\"rotulos.in\", encoding=\"utf-8\") as f:\n",
    "    ordered = sorted([line.strip() for line in f.readlines()], key=locale.strxfrm)\n",
    "\n",
    "with open(\"rotulos.out\", \"w\", encoding=\"utf-8\") as f:\n",
    "    with redirect_stdout(f):\n",
    "        print(\"\\n\".join(ordered))"
   ]
  }
 ],
 "metadata": {
  "kernelspec": {
   "display_name": "Python 3",
   "language": "python",
   "name": "python3"
  },
  "language_info": {
   "codemirror_mode": {
    "name": "ipython",
    "version": 3
   },
   "file_extension": ".py",
   "mimetype": "text/x-python",
   "name": "python",
   "nbconvert_exporter": "python",
   "pygments_lexer": "ipython3",
   "version": "3.6.4"
  }
 },
 "nbformat": 4,
 "nbformat_minor": 2
}
