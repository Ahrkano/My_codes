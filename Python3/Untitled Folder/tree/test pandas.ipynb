{
 "cells": [
  {
   "cell_type": "code",
   "execution_count": 24,
   "metadata": {},
   "outputs": [],
   "source": [
    "class NodoArvore:\n",
    "    def __init__(self, chave=None, esquerda=None, direita=None):\n",
    "        self.chave = chave\n",
    "        self.esquerda = esquerda\n",
    "        self.direita = direita\n",
    "\n",
    "class Arvore:\n",
    "    def __init__(self):\n",
    "        raiz = NodoArvore(0)\n",
    "        return raiz\n",
    "\n",
    "    def add(self,)"
   ]
  }
 ],
 "metadata": {
  "kernelspec": {
   "display_name": "Python 3",
   "language": "python",
   "name": "python3"
  },
  "language_info": {
   "codemirror_mode": {
    "name": "ipython",
    "version": 3
   },
   "file_extension": ".py",
   "mimetype": "text/x-python",
   "name": "python",
   "nbconvert_exporter": "python",
   "pygments_lexer": "ipython3",
   "version": "3.6.4"
  }
 },
 "nbformat": 4,
 "nbformat_minor": 2
}
