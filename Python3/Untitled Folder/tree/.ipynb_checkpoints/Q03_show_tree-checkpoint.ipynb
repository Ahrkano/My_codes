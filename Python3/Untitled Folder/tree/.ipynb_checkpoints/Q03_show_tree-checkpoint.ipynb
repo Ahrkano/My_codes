{
 "cells": [
  {
   "cell_type": "code",
   "execution_count": 6,
   "metadata": {},
   "outputs": [],
   "source": [
    "from csv import reader\n",
    "from contextlib import redirect_stdout\n",
    "from collections import namedtuple\n",
    "\n",
    "Entrada = namedtuple(\"Entrada\", \"cod_geral area_geral cod_especifica area_especifica cod_detalhada area_detalhada codigo rotulo\")\n",
    "\n",
    "with open(\"dataset.csv\", encoding=\"utf-8\") as csvfile:\n",
    "  with open(\"tree.out\", \"w\", encoding=\"utf-8\") as f:\n",
    "    with redirect_stdout(f):\n",
    "        cod_geral = \"\"\n",
    "        cod_especifica = \"\"\n",
    "        cod_detalhada = \"\"\n",
    "        csvfile.readline()\n",
    "        for line in reader(csvfile, delimiter=\";\"):\n",
    "            entrada = Entrada(*line)\n",
    "            if entrada.cod_geral != cod_geral:\n",
    "                print(\"==== Área geral: {} {}\".format(entrada.cod_geral, entrada.area_geral))\n",
    "                cod_geral = entrada.cod_geral\n",
    "            if entrada.cod_especifica != cod_especifica:\n",
    "                cod_especifica = entrada.cod_especifica\n",
    "                print('\\t'+\"---- Área específica: {} {}\".format(entrada.cod_especifica, entrada.area_especifica))\n",
    "            if entrada.cod_detalhada != cod_detalhada:\n",
    "                cod_detalhada = entrada.cod_detalhada\n",
    "                print('\\t\\t'+\"++++ Área detalhada: {} {}\".format(entrada.cod_detalhada, entrada.area_detalhada))\n",
    "            print('\\t\\t\\t\\t'+\"{} {}\".format(entrada.codigo, entrada.rotulo))"
   ]
  }
 ],
 "metadata": {
  "kernelspec": {
   "display_name": "Python 3",
   "language": "python",
   "name": "python3"
  },
  "language_info": {
   "codemirror_mode": {
    "name": "ipython",
    "version": 3
   },
   "file_extension": ".py",
   "mimetype": "text/x-python",
   "name": "python",
   "nbconvert_exporter": "python",
   "pygments_lexer": "ipython3",
   "version": "3.6.4"
  }
 },
 "nbformat": 4,
 "nbformat_minor": 2
}
