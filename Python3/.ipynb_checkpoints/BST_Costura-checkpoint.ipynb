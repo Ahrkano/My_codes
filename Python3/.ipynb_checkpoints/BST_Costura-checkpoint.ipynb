{
 "cells": [
  {
   "cell_type": "code",
   "execution_count": 126,
   "metadata": {},
   "outputs": [],
   "source": [
    "class TreeNode:\n",
    "    def __init__(self, left=None, right=None, value=None, Lt=None, Rt=None):\n",
    "        self.left     = left\n",
    "        self.right    = right\n",
    "        self.data     = value\n",
    "        self.Lthread  = Lt\n",
    "        self.Rthread  = Rt\n",
    "\n",
    "class Tree:\n",
    "    def __init__(self):\n",
    "        self.root = None\n",
    "        self.header = TreeNode(None,self.root,None,0,1)\n",
    "        self.header.left = self.header\n",
    "        self.nodes = 0\n",
    "        \n",
    "\n",
    "    def addNode(self, node, value):\n",
    "        if(self.root == None):\n",
    "            self.root = TreeNode(self.header,self.header,value,1,1)\n",
    "            \n",
    "        else:\n",
    "            if(value == node.data):\n",
    "                print(\"Valor existente\")\n",
    "                \n",
    "            if(value<node.data):\n",
    "                \n",
    "                if(node.Lthread == 1):\n",
    "                    new_node = TreeNode(node.left,node,value,1,1)\n",
    "                    node.left = new_node\n",
    "                    node.Lthread = 0\n",
    "                    self.nodes += 1\n",
    "                    \n",
    "                else:\n",
    "                    self.addNode(node.left, value);\n",
    "            else:\n",
    "                \n",
    "                if(node.Rthread == 1):\n",
    "                    new_node = TreeNode(node,node.right,value,1,1)\n",
    "                    node.right = new_node\n",
    "                    node.Rthread = 0\n",
    "                    self.nodes += 1\n",
    "                    \n",
    "                else:\n",
    "                    self.addNode(node.right, value)\n",
    "\n",
    "    \n",
    "    def search(self, node, value):\n",
    "        if(value == node.data or node == None):\n",
    "            return node\n",
    "        \n",
    "        if(value<node.data):\n",
    "            self.search(node.left, value)\n",
    "        else:\n",
    "            self.search(node.right, value)\n",
    "            \n",
    "    def next_node(self,pt1):\n",
    "        pt2 = pt1.right\n",
    "        if (pt1.Rthread == 0):\n",
    "            while(pt2.Lthread == 0):\n",
    "                pt2 = pt2.left\n",
    "        return pt2\n",
    "        \n",
    "    def prev_node(self,pt1):    \n",
    "        pt2 = pt1.left\n",
    "        if (pt1.Lthread == 0):\n",
    "            while(pt2.Rthread == 0):\n",
    "                pt2 = pt2.right\n",
    "        return pt2\n",
    "                \n",
    "    def delNode(self, node, value):\n",
    "        #caso a arvore esteja vazia\n",
    "        if(self.root == None):\n",
    "            print(\"Empty tree\")\n",
    "            \n",
    "        else:\n",
    "            #caso o valor esteja na raiz e a raiz seja o unico elemento da arvore\n",
    "            if (self.root.data == value and (self.root.right == self.root.left) ):\n",
    "                 self.root = None\n",
    "                    \n",
    "            else:\n",
    "                find = self.search(node, value)\n",
    "                if (find == None):\n",
    "                    print(\"Valor nao encontrado\")\n",
    "                    \n",
    "                else:\n",
    "                    #procura o predecessor\n",
    "                    if (find.left):\n",
    "                        temp = prev_node(find)\n",
    "                    \n",
    "                        #caso nao possua filhos\n",
    "                        if (temp.Lthread == temp.Rthread):\n",
    "                            temp.left.Rthread = 1\n",
    "                            temp.left.right = find\n",
    "                            find.data = temp.data\n",
    "                            temp = None\n",
    "                        else:\n",
    "                            prev_node(temp).right = temp.right\n",
    "                            find.data = temp.data\n",
    "                            #remover temp\n",
    "                            temp = temp.left\n",
    "                            \n",
    "                            \n",
    "                         \n",
    "                    else:\n",
    "                        #nao existe predecessor\n",
    "                        #procura o sucessor\n",
    "                        temp = next_node(find)\n",
    "                        \n",
    "                        #caso nao possua filhos\n",
    "                        if (temp.Lthread == temp.Rthread):\n",
    "                            temp.right.Lthread = 1\n",
    "                            temp.right.left = find\n",
    "                            find.data = temp.data\n",
    "                            temp = None\n",
    "                        else:\n",
    "                            next_node(temp).left = temp.left\n",
    "                            find.data = temp.data\n",
    "                            #remover temp\n",
    "                            temp = temp.right\n",
    "                        \n",
    "                \n",
    "    def in_order(self, node):\n",
    "        aux = node\n",
    "        while (aux.Lthread != 1) :\n",
    "            aux = aux.left\n",
    "        \n",
    "        stack = []\n",
    "        \n",
    "        while (len(stack) <= self.nodes):\n",
    "            \n",
    "            if(aux.Lthread == 0 and aux.left.data not in stack ):\n",
    "                aux = aux.left\n",
    "            else:\n",
    "                stack.append(aux.data)\n",
    "                aux = aux.right\n",
    "        print(stack)"
   ]
  },
  {
   "cell_type": "code",
   "execution_count": 127,
   "metadata": {},
   "outputs": [],
   "source": [
    "def wtf():\n",
    "    teste = Tree()\n",
    "    teste.addNode(teste.root, 100)\n",
    "    teste.addNode(teste.root, 50)\n",
    "    teste.addNode(teste.root, 150)\n",
    "    teste.addNode(teste.root, 250)\n",
    "    teste.addNode(teste.root, 200)\n",
    "    return teste"
   ]
  },
  {
   "cell_type": "code",
   "execution_count": 128,
   "metadata": {},
   "outputs": [],
   "source": [
    "teste = wtf()"
   ]
  },
  {
   "cell_type": "code",
   "execution_count": 129,
   "metadata": {},
   "outputs": [
    {
     "name": "stdout",
     "output_type": "stream",
     "text": [
      "[50, 100, 150, 200, 250]\n"
     ]
    }
   ],
   "source": [
    "teste.in_order(teste.root)"
   ]
  },
  {
   "cell_type": "code",
   "execution_count": 130,
   "metadata": {},
   "outputs": [],
   "source": [
    "hold = teste.prev_node(teste.root)"
   ]
  },
  {
   "cell_type": "code",
   "execution_count": 131,
   "metadata": {},
   "outputs": [
    {
     "name": "stdout",
     "output_type": "stream",
     "text": [
      "50\n"
     ]
    }
   ],
   "source": [
    "print(hold.data)"
   ]
  },
  {
   "cell_type": "code",
   "execution_count": 132,
   "metadata": {},
   "outputs": [
    {
     "name": "stdout",
     "output_type": "stream",
     "text": [
      "Valor nao encontrado\n"
     ]
    }
   ],
   "source": [
    "teste.delNode(teste.root,50)"
   ]
  },
  {
   "cell_type": "code",
   "execution_count": null,
   "metadata": {},
   "outputs": [],
   "source": []
  }
 ],
 "metadata": {
  "kernelspec": {
   "display_name": "Python 3",
   "language": "python",
   "name": "python3"
  },
  "language_info": {
   "codemirror_mode": {
    "name": "ipython",
    "version": 3
   },
   "file_extension": ".py",
   "mimetype": "text/x-python",
   "name": "python",
   "nbconvert_exporter": "python",
   "pygments_lexer": "ipython3",
   "version": "3.6.4"
  }
 },
 "nbformat": 4,
 "nbformat_minor": 2
}
