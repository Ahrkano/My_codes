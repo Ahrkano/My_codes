{
 "cells": [
  {
   "cell_type": "code",
   "execution_count": 8,
   "metadata": {},
   "outputs": [],
   "source": [
    "class NodoArvore:\n",
    "    def __init__(self, chave=None, costura=0, esquerda=None, direita=None):\n",
    "        self.chave = chave\n",
    "        self.esquerda = esquerda\n",
    "        self.direita = direita\n",
    "        self.costura = costura\n",
    "\n",
    "    def __repr__(self):\n",
    "        return '%s <- %s -> %s' % (self.esquerda and self.esquerda.chave,  \n",
    "                                    self.chave, \n",
    "                                    self.direita and self.direita.chave)\n",
    "\n",
    "def cria_arvore(dado):\n",
    "    raiz = NodoArvore(dado, 1)\n",
    "    return raiz\n",
    "\n",
    "def set_left(raiz, dado):\n",
    "    if not raiz:\n",
    "        print(\"Impossivel criar no\")\n",
    "    else:\n",
    "        if raiz.esquerda:\n",
    "            print(\"No esquerdo ja existe\")\n",
    "        else:\n",
    "            raiz.esquerda = NodoArvore(dado,1,None,raiz)\n",
    "\n",
    "def set_right(raiz, dado):\n",
    "    if not raiz:\n",
    "        print(\"Impossivel criar no\")\n",
    "    else:\n",
    "        if not raiz.costura:\n",
    "            print(\"No direito nao pode ser criado\")\n",
    "        else:\n",
    "            temp = NodoArvore(dado,1,None,raiz.direita)\n",
    "    \n",
    "            raiz.direita = temp\n",
    "            raiz.costura = 0\n",
    "\n",
    "            \n"
   ]
  },
  {
   "cell_type": "code",
   "execution_count": 9,
   "metadata": {},
   "outputs": [],
   "source": [
    "raiz = cria_arvore(15)"
   ]
  },
  {
   "cell_type": "code",
   "execution_count": 10,
   "metadata": {},
   "outputs": [],
   "source": [
    "set_left(raiz,10)"
   ]
  },
  {
   "cell_type": "code",
   "execution_count": 11,
   "metadata": {},
   "outputs": [],
   "source": [
    "set_right(raiz,20)"
   ]
  },
  {
   "cell_type": "code",
   "execution_count": 12,
   "metadata": {},
   "outputs": [
    {
     "data": {
      "text/plain": [
       "10 <- 15 -> 20"
      ]
     },
     "execution_count": 12,
     "metadata": {},
     "output_type": "execute_result"
    }
   ],
   "source": [
    "raiz"
   ]
  },
  {
   "cell_type": "code",
   "execution_count": 13,
   "metadata": {},
   "outputs": [],
   "source": [
    "set_left(raiz.esquerda, 5)"
   ]
  },
  {
   "cell_type": "code",
   "execution_count": 14,
   "metadata": {},
   "outputs": [],
   "source": [
    "set_right(raiz.esquerda, 7)"
   ]
  },
  {
   "cell_type": "code",
   "execution_count": 16,
   "metadata": {},
   "outputs": [
    {
     "data": {
      "text/plain": [
       "5 <- 10 -> 7"
      ]
     },
     "execution_count": 16,
     "metadata": {},
     "output_type": "execute_result"
    }
   ],
   "source": [
    "raiz.esquerda"
   ]
  },
  {
   "cell_type": "raw",
   "metadata": {},
   "source": []
  }
 ],
 "metadata": {
  "kernelspec": {
   "display_name": "Python 3",
   "language": "python",
   "name": "python3"
  },
  "language_info": {
   "codemirror_mode": {
    "name": "ipython",
    "version": 3
   },
   "file_extension": ".py",
   "mimetype": "text/x-python",
   "name": "python",
   "nbconvert_exporter": "python",
   "pygments_lexer": "ipython3",
   "version": "3.6.4"
  }
 },
 "nbformat": 4,
 "nbformat_minor": 2
}
