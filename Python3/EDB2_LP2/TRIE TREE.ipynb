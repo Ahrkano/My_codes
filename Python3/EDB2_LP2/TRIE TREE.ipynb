{
 "cells": [
  {
   "cell_type": "code",
   "execution_count": 39,
   "metadata": {},
   "outputs": [],
   "source": [
    "class Node:\n",
    "    def __init__(self):\n",
    "        self.word = None\n",
    "        self.nodes = {}\n",
    "        \n",
    "    def __print_all__(self):\n",
    "        bank = []\n",
    "        for key, node in self.nodes.items() : \n",
    "            if(node.word is not None):\n",
    "                bank.append(node.word)\n",
    "            bank += node.__print_all__()\n",
    "                \n",
    "        return bank\n",
    "    \n",
    "    def __str__(self):\n",
    "        return self.word\n",
    "    \n",
    "    def __insert__(self, word, string_pos = 0):\n",
    "        current_letter = word[string_pos]\n",
    "        \n",
    "        # Create the Node if it does not already exist\n",
    "        if current_letter not in self.nodes:\n",
    "            self.nodes[current_letter] = Node();\n",
    "\n",
    "        if(string_pos + 1 == len(word)):\n",
    "            self.nodes[current_letter].word = word\n",
    "        else:\n",
    "            self.nodes[current_letter].__insert__(word, string_pos + 1)\n",
    "            \n",
    "        return True\n",
    "    \n",
    "    def __print_prefix__(self, prefix, string_pos):\n",
    "        bank = []\n",
    "        \n",
    "        for key, node in self.nodes.items() : \n",
    "            # If the current character of the prefix is one of the nodes or we have\n",
    "            # already satisfied the prefix match, then get the matches\n",
    "            if(string_pos >= len(prefix) or key == prefix[string_pos]):\n",
    "                if(node.word is not None):\n",
    "                    bank.append(node.word)\n",
    "                    \n",
    "                if(node.nodes != {}):\n",
    "                    if(string_pos + 1 <= len(prefix)):\n",
    "                        bank += node.__print_prefix__(prefix, string_pos + 1)\n",
    "                    else:\n",
    "                        bank += node.__print_prefix__(prefix, string_pos)\n",
    "    \n",
    "        return bank      "
   ]
  },
  {
   "cell_type": "code",
   "execution_count": 40,
   "metadata": {},
   "outputs": [],
   "source": [
    "class Trie:\n",
    "    def __init__(self):\n",
    "        self.root = Node()\n",
    "        \n",
    "    def insert(self, word):\n",
    "        self.root.__insert__(word)\n",
    "        \n",
    "    def print_all(self):\n",
    "        return self.root.__print_all__()\n",
    "\n",
    "    def print_prefix(self, prefix, string_pos = 0):\n",
    "        return self.root.__print_prefix__(prefix, string_pos)\n",
    " "
   ]
  },
  {
   "cell_type": "code",
   "execution_count": 72,
   "metadata": {},
   "outputs": [],
   "source": [
    "trie = Trie()\n",
    "trie.insert(\"bulbasaur\")\n",
    "trie.insert(\"ivysaur\")\n",
    "trie.insert(\"venusaur\")\n",
    "trie.insert(\"charmander\")\n",
    "trie.insert(\"charmeleon\")\n",
    "trie.insert(\"charizard\")\n",
    "trie.insert(\"squirtle\")\n",
    "trie.insert(\"wartortle\")\n",
    "trie.insert(\"blatoise\")\n",
    "trie.insert(\"abra\")\n",
    "trie.insert(\"kadabra\")\n",
    "trie.insert(\"alakazam\")\n",
    "trie.insert(\"dratini\")\n",
    "trie.insert(\"dragonair\")\n",
    "trie.insert(\"dragonite\")\n",
    "trie.insert(\"ditto\")"
   ]
  },
  {
   "cell_type": "code",
   "execution_count": 73,
   "metadata": {
    "collapsed": true
   },
   "outputs": [
    {
     "name": "stdout",
     "output_type": "stream",
     "text": [
      "['bulbasaur', 'blatoise', 'ivysaur', 'venusaur', 'charmander', 'charmeleon', 'charizard', 'squirtle', 'wartortle', 'abra', 'alakazam', 'kadabra', 'dratini', 'dragonair', 'dragonite', 'ditto']\n"
     ]
    }
   ],
   "source": [
    "print (trie.print_all())"
   ]
  },
  {
   "cell_type": "code",
   "execution_count": 74,
   "metadata": {
    "collapsed": true
   },
   "outputs": [
    {
     "name": "stdout",
     "output_type": "stream",
     "text": [
      "['dratini', 'dragonair', 'dragonite']\n",
      "['charmander', 'charmeleon', 'charizard']\n",
      "['bulbasaur', 'blatoise']\n",
      "['venusaur']\n",
      "['kadabra']\n"
     ]
    }
   ],
   "source": [
    "print (trie.print_prefix(\"dr\"))\n",
    "print (trie.print_prefix(\"ch\"))\n",
    "print (trie.print_prefix(\"b\"))\n",
    "print (trie.print_prefix(\"v\"))\n",
    "print (trie.print_prefix(\"k\"))"
   ]
  },
  {
   "cell_type": "code",
   "execution_count": null,
   "metadata": {},
   "outputs": [],
   "source": [
    "trie.insert(\"bulbasaur\")\n",
    "trie.insert(\"ivysaur\")\n",
    "trie.insert(\"venusaur\")\n",
    "trie.insert(\"charmander\")\n",
    "trie.insert(\"charmeleon\")\n",
    "trie.insert(\"charizard\")\n",
    "trie.insert(\"squirtle\")\n",
    "trie.insert(\"wartortle\")\n",
    "trie.insert(\"blatoise\")\n",
    "trie.insert(\"abra\")\n",
    "trie.insert(\"kadabra\")\n",
    "trie.insert(\"alakazam\")\n",
    "trie.insert(\"dratini\")\n",
    "trie.insert(\"dragonair\")\n",
    "trie.insert(\"dragonite\")\n",
    "trie.insert(\"ditto\")"
   ]
  }
 ],
 "metadata": {
  "kernelspec": {
   "display_name": "Python 3",
   "language": "python",
   "name": "python3"
  },
  "language_info": {
   "codemirror_mode": {
    "name": "ipython",
    "version": 3
   },
   "file_extension": ".py",
   "mimetype": "text/x-python",
   "name": "python",
   "nbconvert_exporter": "python",
   "pygments_lexer": "ipython3",
   "version": "3.6.4"
  }
 },
 "nbformat": 4,
 "nbformat_minor": 2
}
