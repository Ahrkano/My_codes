{
 "cells": [
  {
   "cell_type": "code",
   "execution_count": 216,
   "metadata": {},
   "outputs": [],
   "source": [
    "#importando bibliotecas\n",
    "import csv\n",
    "import itertools\n",
    "import operator\n",
    "from io import open\n",
    "import collections"
   ]
  },
  {
   "cell_type": "code",
   "execution_count": 217,
   "metadata": {},
   "outputs": [],
   "source": [
    "#informacoes recebidas\n",
    "total_cadeiras = 29\n",
    "QE = 12684"
   ]
  },
  {
   "cell_type": "code",
   "execution_count": 218,
   "metadata": {},
   "outputs": [],
   "source": [
    "#lista para armazenamento dos dados recebidos\n",
    "dados = []"
   ]
  },
  {
   "cell_type": "code",
   "execution_count": 219,
   "metadata": {},
   "outputs": [],
   "source": [
    "#funcao que calcula a distribuicao das vagas residuais\n",
    "def calcula_media(colig, vagas_r, media):\n",
    "    while (vagas_r > 0) :\n",
    "        for cont in range(0 , len(colig)):\n",
    "            media[cont] = colig[cont][0]/(colig[cont][1] + 1)\n",
    "        colig[media.index(max(media))][1] += 1\n",
    "        vagas_r -= 1"
   ]
  },
  {
   "cell_type": "code",
   "execution_count": 220,
   "metadata": {},
   "outputs": [],
   "source": [
    "#funcao que filtra e armazena apenas os candidatos eleitos atraves da eleicao proporcional\n",
    "def filtra_candidato_lista(candi_dict, colig):\n",
    "    final_list = []\n",
    "    for k in candi_dict:\n",
    "        for cont in range(0, colig[k][1]):\n",
    "            temp = [ candi_dict[k][cont][0], candi_dict[k][cont][1], k, candi_dict[k][cont][2]]\n",
    "            final_list.append(temp)\n",
    "    return final_list"
   ]
  },
  {
   "cell_type": "code",
   "execution_count": 221,
   "metadata": {},
   "outputs": [],
   "source": [
    "#abrindo e armzazenando aquivo contendo os dados\n",
    "with open('eleicao.csv', encoding='utf-8') as f:\n",
    "    reader = csv.reader(f)\n",
    "    for row in reader:\n",
    "        dados.append(row)\n",
    "        \n",
    "        # Caso haja virgula no nome do candidato\n",
    "        if len(row) > 1 :\n",
    "            aux = ''\n",
    "            for x in range(0, len(row)):\n",
    "                aux += row[x]\n",
    "            dados.pop()\n",
    "            dados.append([aux])"
   ]
  },
  {
   "cell_type": "code",
   "execution_count": 222,
   "metadata": {},
   "outputs": [
    {
     "data": {
      "text/plain": [
       "['Número;Nome;Partido/Coligação;Votos']"
      ]
     },
     "execution_count": 222,
     "metadata": {},
     "output_type": "execute_result"
    }
   ],
   "source": [
    "#removendo a primeira linha\n",
    "dados.pop(0)"
   ]
  },
  {
   "cell_type": "code",
   "execution_count": 223,
   "metadata": {},
   "outputs": [],
   "source": [
    "#lista com 'NUMERO', 'NOME', 'COLIGACAO' e 'VOTOS' de cada candidato\n",
    "result = [i[0].split(';') for i in dados]\n",
    "\n",
    "#dicionario com a quantidade de votos das coligacoes\n",
    "my_dict = collections.OrderedDict()\n",
    "\n",
    "for i in range(0, len(result)):\n",
    "    if result[i][2] not in my_dict:\n",
    "        new_key = {result[i][2]: int(result[i][3]) }\n",
    "        my_dict.update(new_key)\n",
    "    else:\n",
    "        my_dict[result[i][2]] = my_dict.get(result[i][2], 0) + int(result[i][3])"
   ]
  },
  {
   "cell_type": "code",
   "execution_count": 224,
   "metadata": {},
   "outputs": [],
   "source": [
    "#lista com quoeficiente partidario das coligacoes\n",
    "q_part = [i//QE for i in list(my_dict.values())]\n",
    "\n",
    "vagas_ = sum(list(q_part))\n",
    "vagas_residuais = total_cadeiras - vagas_\n",
    "\n",
    "#dicionario com a quantidade de vagas obtidas\n",
    "vagas_por_colig = {**my_dict}   "
   ]
  },
  {
   "cell_type": "code",
   "execution_count": 225,
   "metadata": {},
   "outputs": [],
   "source": [
    "count = 0\n",
    "valor = list(my_dict.values())\n",
    "\n",
    "#associando quoeficiente partidario das coligacoes com a quantidade de vagas obtidas\n",
    "for key in vagas_por_colig:\n",
    "    vagas_por_colig[key] = [vagas_por_colig[key], q_part[count]]\n",
    "    count += 1"
   ]
  },
  {
   "cell_type": "code",
   "execution_count": 226,
   "metadata": {},
   "outputs": [],
   "source": [
    "#coligacoes que receberam vagas atraves do preenchimento por quociente partidario\n",
    "vagas_por_colig_nao_nulas = { k:v for k,v in vagas_por_colig.items() if v[1]!=0 }"
   ]
  },
  {
   "cell_type": "code",
   "execution_count": 227,
   "metadata": {},
   "outputs": [],
   "source": [
    "#distribuicao das vagas residuais\n",
    "calcula_media(list(vagas_por_colig_nao_nulas.values()),vagas_residuais, [1]*len(vagas_por_colig_nao_nulas))"
   ]
  },
  {
   "cell_type": "code",
   "execution_count": 228,
   "metadata": {},
   "outputs": [],
   "source": [
    "eleitos = { k:[] for k in vagas_por_colig_nao_nulas.keys()}\n",
    "\n",
    "for k in result:\n",
    "    if k[2] in eleitos:\n",
    "        temp = [int(k[3]), k[1], k[0]]\n",
    "        eleitos[k[2]].append(temp)\n",
    "\n",
    "#ordenando os cadidatos do mais votado para o menos votado\n",
    "for k in eleitos:\n",
    "    eleitos[k].sort(reverse=True)  "
   ]
  },
  {
   "cell_type": "code",
   "execution_count": 229,
   "metadata": {
    "scrolled": false
   },
   "outputs": [],
   "source": [
    "eleicao_proporcional = filtra_candidato_lista(eleitos, vagas_por_colig_nao_nulas)\n",
    "eleicao_proporcional.sort(reverse=True)"
   ]
  },
  {
   "cell_type": "code",
   "execution_count": 230,
   "metadata": {},
   "outputs": [],
   "source": [
    "with open('eleicao.tsv', 'w', encoding='utf-8') as out:\n",
    "    for var in eleicao_proporcional:\n",
    "        out.write(var[3]+\"\\t\"+var[1]+\"\\t\"+var[2]+\"\\t\"+str(var[0]) + '\\n')"
   ]
  }
 ],
 "metadata": {
  "kernelspec": {
   "display_name": "Python 3",
   "language": "python",
   "name": "python3"
  },
  "language_info": {
   "codemirror_mode": {
    "name": "ipython",
    "version": 3
   },
   "file_extension": ".py",
   "mimetype": "text/x-python",
   "name": "python",
   "nbconvert_exporter": "python",
   "pygments_lexer": "ipython3",
   "version": "3.6.4"
  }
 },
 "nbformat": 4,
 "nbformat_minor": 2
}
