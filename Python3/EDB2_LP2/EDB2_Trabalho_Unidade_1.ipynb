{
 "cells": [
  {
   "cell_type": "code",
   "execution_count": 56,
   "metadata": {},
   "outputs": [],
   "source": [
    "class Node(object):\n",
    "\n",
    "    def __init__(self, data=None, next_node=None):\n",
    "        self.data = data\n",
    "        self.next = next_node\n",
    "\n",
    "    def get_data(self):\n",
    "        return self.data\n",
    "\n",
    "    def get_next(self):\n",
    "        return self.next_node\n",
    "\n",
    "    def set_next(self, new_next):\n",
    "        self.next_node = new_next"
   ]
  },
  {
   "cell_type": "code",
   "execution_count": 57,
   "metadata": {},
   "outputs": [],
   "source": [
    "class LinkedList(object):\n",
    "    def __init__(self, head=None):\n",
    "        self.head = head\n",
    "        self.size = 0\n",
    "        \n",
    "    def size(self):\n",
    "        return self.size\n",
    "    \n",
    "    def print_elemets(self):\n",
    "        current = self.head\n",
    "        while current != None:\n",
    "            print(current.get_data())\n",
    "            current = current.get_next()\n",
    "            \n",
    "    def copy_list(self, other):\n",
    "        current = other.head\n",
    "        while current != None:\n",
    "            self.insert(current.get_data())\n",
    "            current = current.get_next()\n",
    "    \n",
    "    def insert(self, data):\n",
    "        new_node = Node(data)\n",
    "        new_node.set_next(self.head)\n",
    "        self.head = new_node\n",
    "        self.size += 1\n",
    "    \n",
    "    def search(self, data):\n",
    "        current = self.head\n",
    "        found = False\n",
    "        \n",
    "        while current and found is False:\n",
    "            if current.get_data() == data:\n",
    "                found = True\n",
    "            else:\n",
    "                current = current.get_next()\n",
    "        if current is None:\n",
    "            raise ValueError(\"Data not in list\")\n",
    "        return current\n",
    "    \n",
    "    def delete(self, data):\n",
    "        current = self.head\n",
    "        previous = None\n",
    "        found = False\n",
    "    \n",
    "        while current and found is False:\n",
    "            if current.get_data() == data:\n",
    "                found = True\n",
    "            else:\n",
    "                previous = current\n",
    "                current = current.get_next()\n",
    "        if current is None:\n",
    "            raise ValueError(\"Data not in list\")\n",
    "        if previous is None:\n",
    "            self.head = current.get_next()\n",
    "        else:\n",
    "            previous.set_next(current.get_next())\n",
    "            self.size -= 1\n",
    "            \n",
    "            \n",
    "#====================================FUNCAO SWAP====================================# \n",
    "    def swap(self, node1, node2):\n",
    "        # mesmo nó\n",
    "        if node1 == node2: \n",
    "            return \n",
    "  \n",
    "        # busca antecessor do nó 1 \n",
    "        ant_node1 = None\n",
    "        pos_node1 = self.head \n",
    "        while pos_node1 != None and pos_node1.data != node1.get_data(): \n",
    "            ant_node1 = pos_node1 \n",
    "            pos_node1 = pos_node1.get_next()\n",
    "  \n",
    "        # busca antecessor do nó 2 \n",
    "        ant_node2 = None\n",
    "        pos_node2 = self.head \n",
    "        while pos_node2 != None and pos_node2.data != node2.get_data(): \n",
    "            ant_node2 = pos_node2 \n",
    "            pos_node2 = pos_node2.get_next()\n",
    "  \n",
    "        # nós não encontrados\n",
    "        if pos_node1 == None or pos_node2 == None: \n",
    "            return \n",
    "        \n",
    "        # Se o nó 1 não é a cabeça da lista\n",
    "        if ant_node1 != None: \n",
    "            ant_node1.set_next(pos_node2)  \n",
    "        else: # nó 2 se torna cabeça\n",
    "            self.head = pos_node2 \n",
    "  \n",
    "        # Se o nó 2 não é a cabeça da lista\n",
    "        if ant_node2 != None: \n",
    "            ant_node2.set_next(pos_node1) \n",
    "        else: # nó 1 se torna cabeça \n",
    "            self.head = pos_node1 \n",
    "  \n",
    "        # Swap next pointers \n",
    "        aux = pos_node1.get_next()\n",
    "        pos_node1.set_next(pos_node2.get_next()) \n",
    "        pos_node2.set_next(aux) "
   ]
  },
  {
   "cell_type": "code",
   "execution_count": 58,
   "metadata": {},
   "outputs": [],
   "source": [
    "#====================================FUNCAO MERGE====================================# \n",
    "def merge_lists(L1, L2):\n",
    "    L3 = LinkedList()\n",
    "    if L1 is None:\n",
    "        L3.copy_list(L2)\n",
    "        return L3\n",
    "    if L2 is None:\n",
    "        L3.copy_list(L1)\n",
    "        return L3\n",
    "    \n",
    "    head1 = L1.head\n",
    "    head2 = L2.head\n",
    "            \n",
    "    count = 0\n",
    "    while (count < (L1.size+L2.size)):\n",
    "        if (head1 != None and head2 != None):\n",
    "            if (head1.get_data() < head2.get_data()):\n",
    "                L3.insert(head1.get_data())\n",
    "                head1 = head1.get_next()\n",
    "            else:\n",
    "                L3.insert(head2.get_data())\n",
    "                head2 = head2.get_next()\n",
    "        else:\n",
    "            if (head1 == None and head2 != None):\n",
    "                L3.insert(head2.get_data())\n",
    "                head2 = head2.get_next()\n",
    "            else:\n",
    "                L3.insert(head1.get_data())\n",
    "                head1 = head1.get_next()\n",
    "        count+=1\n",
    "\n",
    "    return L3"
   ]
  },
  {
   "cell_type": "code",
   "execution_count": 59,
   "metadata": {},
   "outputs": [],
   "source": [
    "Teste = LinkedList()\n",
    "Teste2 = LinkedList()\n",
    "Res = LinkedList()\n",
    "Res2 = LinkedList()"
   ]
  },
  {
   "cell_type": "code",
   "execution_count": 60,
   "metadata": {},
   "outputs": [],
   "source": [
    "Teste.insert(10)\n",
    "Teste.insert(20)\n",
    "Teste.insert(30)\n",
    "Teste.insert(40)\n",
    "Teste.insert(50)\n",
    "Teste.insert(60)\n",
    "Teste.insert(70)\n",
    "\n",
    "Teste2.insert(15)\n",
    "Teste2.insert(25)\n",
    "Teste2.insert(35)\n",
    "Teste2.insert(45)"
   ]
  },
  {
   "cell_type": "code",
   "execution_count": 61,
   "metadata": {},
   "outputs": [
    {
     "name": "stdout",
     "output_type": "stream",
     "text": [
      "70\n",
      "60\n",
      "50\n",
      "40\n",
      "30\n",
      "20\n",
      "10\n"
     ]
    }
   ],
   "source": [
    "Teste.print_elemets()"
   ]
  },
  {
   "cell_type": "code",
   "execution_count": 62,
   "metadata": {},
   "outputs": [
    {
     "name": "stdout",
     "output_type": "stream",
     "text": [
      "45\n",
      "35\n",
      "25\n",
      "15\n"
     ]
    }
   ],
   "source": [
    "Teste2.print_elemets()"
   ]
  },
  {
   "cell_type": "code",
   "execution_count": 63,
   "metadata": {},
   "outputs": [],
   "source": [
    "Teste.swap(Teste.search(10), Teste.search(70))"
   ]
  },
  {
   "cell_type": "code",
   "execution_count": 64,
   "metadata": {},
   "outputs": [
    {
     "name": "stdout",
     "output_type": "stream",
     "text": [
      "10\n",
      "60\n",
      "50\n",
      "40\n",
      "30\n",
      "20\n",
      "70\n"
     ]
    }
   ],
   "source": [
    "Teste.print_elemets()"
   ]
  },
  {
   "cell_type": "code",
   "execution_count": 65,
   "metadata": {},
   "outputs": [],
   "source": [
    "Res = merge_lists(Teste2, Teste)"
   ]
  },
  {
   "cell_type": "code",
   "execution_count": 66,
   "metadata": {},
   "outputs": [
    {
     "name": "stdout",
     "output_type": "stream",
     "text": [
      "70\n",
      "20\n",
      "30\n",
      "40\n",
      "50\n",
      "60\n",
      "15\n",
      "25\n",
      "35\n",
      "45\n",
      "10\n"
     ]
    }
   ],
   "source": [
    "Res.print_elemets()"
   ]
  },
  {
   "cell_type": "code",
   "execution_count": 67,
   "metadata": {},
   "outputs": [
    {
     "data": {
      "text/plain": [
       "11"
      ]
     },
     "execution_count": 67,
     "metadata": {},
     "output_type": "execute_result"
    }
   ],
   "source": [
    "Res.size"
   ]
  }
 ],
 "metadata": {
  "kernelspec": {
   "display_name": "Python 3",
   "language": "python",
   "name": "python3"
  },
  "language_info": {
   "codemirror_mode": {
    "name": "ipython",
    "version": 3
   },
   "file_extension": ".py",
   "mimetype": "text/x-python",
   "name": "python",
   "nbconvert_exporter": "python",
   "pygments_lexer": "ipython3",
   "version": "3.6.4"
  }
 },
 "nbformat": 4,
 "nbformat_minor": 2
}
