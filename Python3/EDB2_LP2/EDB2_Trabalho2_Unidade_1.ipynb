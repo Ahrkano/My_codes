{
 "cells": [
  {
   "cell_type": "code",
   "execution_count": 35,
   "metadata": {},
   "outputs": [],
   "source": [
    "class HashTable(object):\n",
    "    tableSize    = 0\n",
    "    elements     = 0\n",
    "    hashTable    = []\n",
    "     \n",
    "    def __init__(self, t_size):\n",
    "        self.tableSize = t_size\n",
    "        self.hashTable = [[] for i in range(t_size)]\n",
    "        \n",
    "    def number_of_elements(self):\n",
    "        return elements\n",
    "        \n",
    "    def hash_function(self, x): \n",
    "        return hash(x) % self.tableSize\n",
    "    \n",
    "    def insert(self,input,value): \n",
    "        self.hashTable[self.hash_function(input)].append((input,value))\n",
    "        self.elements+=1\n",
    "        \n",
    "    def remove(self,input,value):\n",
    "        wanted = self.hashTable[self.hash_function(input)]\n",
    "        for i in wanted:\n",
    "            if i[1] == value :\n",
    "                wanted.remove(i)\n",
    "        \n",
    "    def search(self, input, value):\n",
    "        wanted = self.hashTable[self.hash_function(input)]\n",
    "        for i in wanted:\n",
    "            if i[1] == value :\n",
    "                return i\n",
    "    \n",
    "    def show(self):\n",
    "        count = 0\n",
    "        while count < self.tableSize:\n",
    "            print(self.hashTable[count])\n",
    "            count+=1"
   ]
  },
  {
   "cell_type": "code",
   "execution_count": 36,
   "metadata": {},
   "outputs": [],
   "source": [
    "Teste = HashTable(5)"
   ]
  },
  {
   "cell_type": "code",
   "execution_count": 37,
   "metadata": {},
   "outputs": [],
   "source": [
    "Teste.insert(41,'apple')\n",
    "Teste.insert(93,'banana')\n",
    "Teste.insert(13,'tangerine')"
   ]
  },
  {
   "cell_type": "code",
   "execution_count": 38,
   "metadata": {},
   "outputs": [
    {
     "name": "stdout",
     "output_type": "stream",
     "text": [
      "[]\n",
      "[(41, 'apple')]\n",
      "[]\n",
      "[(93, 'banana'), (13, 'tangerine')]\n",
      "[]\n"
     ]
    }
   ],
   "source": [
    "Teste.show()"
   ]
  },
  {
   "cell_type": "code",
   "execution_count": 39,
   "metadata": {},
   "outputs": [
    {
     "data": {
      "text/plain": [
       "(13, 'tangerine')"
      ]
     },
     "execution_count": 39,
     "metadata": {},
     "output_type": "execute_result"
    }
   ],
   "source": [
    "Teste.search(13, 'tangerine')"
   ]
  },
  {
   "cell_type": "code",
   "execution_count": 40,
   "metadata": {},
   "outputs": [],
   "source": [
    "Teste.remove(93, 'banana')"
   ]
  },
  {
   "cell_type": "code",
   "execution_count": 41,
   "metadata": {},
   "outputs": [
    {
     "name": "stdout",
     "output_type": "stream",
     "text": [
      "[]\n",
      "[(41, 'apple')]\n",
      "[]\n",
      "[(13, 'tangerine')]\n",
      "[]\n"
     ]
    }
   ],
   "source": [
    "Teste.show()"
   ]
  },
  {
   "cell_type": "code",
   "execution_count": null,
   "metadata": {},
   "outputs": [],
   "source": []
  }
 ],
 "metadata": {
  "kernelspec": {
   "display_name": "Python 3",
   "language": "python",
   "name": "python3"
  },
  "language_info": {
   "codemirror_mode": {
    "name": "ipython",
    "version": 3
   },
   "file_extension": ".py",
   "mimetype": "text/x-python",
   "name": "python",
   "nbconvert_exporter": "python",
   "pygments_lexer": "ipython3",
   "version": "3.6.4"
  }
 },
 "nbformat": 4,
 "nbformat_minor": 2
}
