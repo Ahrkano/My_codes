{
 "cells": [
  {
   "cell_type": "markdown",
   "metadata": {},
   "source": [
    "# LISTA 2"
   ]
  },
  {
   "cell_type": "markdown",
   "metadata": {},
   "source": [
    "1)\n",
    "Implemente uma pilha que, além de permitir empilhar e desempilhar elementos,\n",
    "consegue retornar o elemento mínimo. Todas as opera¸c˜oes dever˜ao apresentar\n",
    "complexidade de pior caso constante."
   ]
  },
  {
   "cell_type": "code",
   "execution_count": 13,
   "metadata": {},
   "outputs": [],
   "source": [
    "class Stack :\n",
    "    def __init__(self) :\n",
    "        self.items = []\n",
    "        self.mini = []\n",
    "    \n",
    "    def size(self) :\n",
    "        return len(self.items)\n",
    "\n",
    "    def push(self, item) :\n",
    "        if self.isEmpty() :\n",
    "            self.items.append(item)\n",
    "            self.mini.append(item)\n",
    "        else:\n",
    "            if self.mini[-1] > item :\n",
    "                self.mini.append(item)\n",
    "                self.items.append(item)\n",
    "        \n",
    "    def pop(self) :\n",
    "        if self.mini[-1] == self.items[-1] :\n",
    "            self.mini.pop()\n",
    "        return self.items.pop()\n",
    "\n",
    "    def isEmpty(self) :\n",
    "        return (self.items == [])\n",
    "    \n",
    "    def minimum(self):\n",
    "        return self.mini[-1]"
   ]
  },
  {
   "cell_type": "code",
   "execution_count": 14,
   "metadata": {},
   "outputs": [
    {
     "name": "stdout",
     "output_type": "stream",
     "text": [
      "[54, 45, 4]\n",
      "4\n"
     ]
    },
    {
     "data": {
      "text/plain": [
       "3"
      ]
     },
     "execution_count": 14,
     "metadata": {},
     "output_type": "execute_result"
    }
   ],
   "source": [
    "#teste\n",
    "s = Stack()\n",
    "s.push(54)\n",
    "s.push(45)\n",
    "s.push(4)\n",
    "print (s.mini)\n",
    "print (s.minimum())\n",
    "s.size()"
   ]
  },
  {
   "cell_type": "markdown",
   "metadata": {},
   "source": [
    "2)\n",
    "Imagine uma pilha (literal) de pratos. Se a pilha ficar muito alta, ela poder´a\n",
    "tombar. Assim, no mundo real, n´os gostar´ıamos de come¸car uma nova pilha quando\n",
    "a pilha anterior excede um determinado limite de elementos. Implemente um TAD\n",
    "chamado ConjuntoDePilhas que possua este comportamento. Este TAD dever´a\n",
    "ser composto de v´arias pilhas, criando uma nova pilha a cada vez que a pilha atual\n",
    "exceda um limite. No entanto, as fun¸c˜oes de empilhar e desempilhar do seu TAD\n",
    "devem ser transparentes `a quantidade de pilhas armazenadas internamente."
   ]
  },
  {
   "cell_type": "code",
   "execution_count": 141,
   "metadata": {},
   "outputs": [],
   "source": [
    "class StackofPlates :\n",
    "    def __init__(self) :\n",
    "        self.pilha = [[]]\n",
    "        self.qtd = 3\n",
    "        \n",
    "    def size(self) :\n",
    "        return len(self.pilha)-1\n",
    "    \n",
    "    def inner_size(self) :\n",
    "        return len(self.pilha[len(self.pilha)-1])\n",
    "    \n",
    "    def isEmpty(self) :\n",
    "        return (self.pilha == [])\n",
    "    \n",
    "    def push(self, chave) :\n",
    "        if self.inner_size() == self.qtd :\n",
    "            self.pilha.append([chave])\n",
    "        else:\n",
    "            self.pilha[(self.size())].append(chave)\n",
    "    \n",
    "    def pop(self) :\n",
    "        if(self.isEmpty() == False) :\n",
    "            if self.inner_size() == 1:\n",
    "                self.pilha.pop()\n",
    "            else:\n",
    "                self.pilha[(self.size())].pop()\n",
    "        "
   ]
  },
  {
   "cell_type": "code",
   "execution_count": 142,
   "metadata": {},
   "outputs": [
    {
     "name": "stdout",
     "output_type": "stream",
     "text": [
      "[[1, 2, 3], [4, 1, 2], [3, 4]]\n",
      "[[1, 2, 3], [4, 1, 2], [3]]\n",
      "[[1, 2, 3], [4, 1, 2]]\n",
      "[[1, 2, 3], [4, 1]]\n"
     ]
    }
   ],
   "source": [
    "p = StackofPlates()\n",
    "p.push(1)\n",
    "p.push(2)\n",
    "p.push(3)\n",
    "p.push(4)\n",
    "p.push(1)\n",
    "p.push(2)\n",
    "p.push(3)\n",
    "p.push(4)\n",
    "print(p.pilha)\n",
    "p.pop()\n",
    "print(p.pilha)\n",
    "p.pop()\n",
    "print(p.pilha)\n",
    "p.pop()\n",
    "print(p.pilha)"
   ]
  },
  {
   "cell_type": "markdown",
   "metadata": {},
   "source": [
    "3)\n",
    "Implemente um algoritmo para solucionar o problema da Torre de Hanói sem\n",
    "recursão."
   ]
  },
  {
   "cell_type": "code",
   "execution_count": null,
   "metadata": {},
   "outputs": [],
   "source": []
  },
  {
   "cell_type": "markdown",
   "metadata": {},
   "source": [
    "4)\n",
    "Implemente um algoritmo que leia uma sequência de caracteres e determine se os\n",
    "parênteses, colchetes e chaves presentes na sequência estão balanceados."
   ]
  },
  {
   "cell_type": "code",
   "execution_count": 163,
   "metadata": {},
   "outputs": [],
   "source": [
    "def contador_char(string) :\n",
    "    table = {'(': 0,')': 0, '[': 0, ']': 0, '{': 0, '}': 0}\n",
    "    \n",
    "    for i in string:\n",
    "        table[i] += 1\n",
    "        \n",
    "    if (table['(']==table[')']) and (table['{']==table['}']) and (table['[']==table[']']):\n",
    "        return True\n",
    "    else:\n",
    "        return False"
   ]
  },
  {
   "cell_type": "code",
   "execution_count": 161,
   "metadata": {},
   "outputs": [
    {
     "data": {
      "text/plain": [
       "True"
      ]
     },
     "execution_count": 161,
     "metadata": {},
     "output_type": "execute_result"
    }
   ],
   "source": [
    "contador_char(\"{{[]}}\")"
   ]
  },
  {
   "cell_type": "markdown",
   "metadata": {},
   "source": [
    "5)\n",
    "Implemente um algoritmo para remover chaves duplicadas de uma lista encadeada\n",
    "não-ordenada"
   ]
  },
  {
   "cell_type": "code",
   "execution_count": 199,
   "metadata": {},
   "outputs": [],
   "source": [
    "def removerDuplicados(duplicado):\n",
    "    _lis = []\n",
    "\n",
    "    for x in duplicado:\n",
    "        if x not in _lis:\n",
    "            _lis.append(x)\n",
    "\n",
    "    return _lis\n",
    "\n",
    "def haDuplicados(lista):\n",
    "    if len(lista) != len(removerDuplicados(lista)):\n",
    "        return True\n",
    "    else:\n",
    "        return False         \n",
    "            "
   ]
  },
  {
   "cell_type": "code",
   "execution_count": 200,
   "metadata": {},
   "outputs": [
    {
     "data": {
      "text/plain": [
       "[1, 2, 3, 4, 5, 6, 9]"
      ]
     },
     "execution_count": 200,
     "metadata": {},
     "output_type": "execute_result"
    }
   ],
   "source": [
    "removerDuplicados([1,2,3,1,4,5,6,6,5,4,9])"
   ]
  },
  {
   "cell_type": "markdown",
   "metadata": {},
   "source": [
    "6)\n",
    "Uma lista encadeada pode ser implementada de diferentes formas. Escolha uma das\n",
    "formas estudadas em sala e apresente pseudocódigos e a análise de complexidade\n",
    "assintótica para um dos procedimentos abaixo:\n",
    "(a) swap\n",
    "(b) merge\n",
    "(c) reverse"
   ]
  },
  {
   "cell_type": "markdown",
   "metadata": {},
   "source": []
  },
  {
   "cell_type": "code",
   "execution_count": null,
   "metadata": {},
   "outputs": [],
   "source": []
  }
 ],
 "metadata": {
  "kernelspec": {
   "display_name": "Python 3",
   "language": "python",
   "name": "python3"
  },
  "language_info": {
   "codemirror_mode": {
    "name": "ipython",
    "version": 3
   },
   "file_extension": ".py",
   "mimetype": "text/x-python",
   "name": "python",
   "nbconvert_exporter": "python",
   "pygments_lexer": "ipython3",
   "version": "3.6.4"
  }
 },
 "nbformat": 4,
 "nbformat_minor": 2
}
