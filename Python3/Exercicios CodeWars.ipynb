{
 "cells": [
  {
   "cell_type": "code",
   "execution_count": 45,
   "metadata": {},
   "outputs": [],
   "source": [
    "def persistence(n):\n",
    "    digits = []\n",
    "    number = str(n)\n",
    "    agg = 1\n",
    "    if (len(list(str(n))) == 1): return 0\n",
    "    \n",
    "    for i in list(str(number)):\n",
    "        digits.append(int(i))\n",
    "        agg = agg*int(i)\n",
    "    \n",
    "    count = len(list(str(agg))) \n",
    "    print (count)\n",
    "\n",
    "    if(count > 1):\n",
    "        return 1 + persistence(agg)\n",
    "    else:\n",
    "        return 1"
   ]
  },
  {
   "cell_type": "code",
   "execution_count": 109,
   "metadata": {},
   "outputs": [],
   "source": [
    "def duplicate_encode(word):\n",
    "    word = word.lower()\n",
    "    result = []\n",
    "    dup = [word[i] for i in range(len(word)) if i != word.index(word[i])]\n",
    "    \n",
    "    for i in word:\n",
    "        if i in dup: \n",
    "            result.append(')')\n",
    "        else:\n",
    "            result.append('(')\n",
    "    \n",
    "    word_res = ''.join(result)\n",
    "    return word_res\n",
    "\n",
    "#melhor resposta\n",
    "#def duplicate_encode(word):\n",
    "#    return \"\".join([\"(\" if word.lower().count(c) == 1 else \")\" for c in word.lower()])"
   ]
  },
  {
   "cell_type": "code",
   "execution_count": 156,
   "metadata": {},
   "outputs": [],
   "source": [
    "def toJadenCase(string):\n",
    "    return (' '.join(x.capitalize() for x in string.split()))\n",
    "\n",
    "    #return string.title()  \n",
    "    #resultado diferente se houver apostrofo"
   ]
  },
  {
   "cell_type": "code",
   "execution_count": 121,
   "metadata": {},
   "outputs": [],
   "source": [
    "def divisors(integer):\n",
    "    #return list(reversed([i for i in range(int(number/2),1,-1) if number%i == 0]))\n",
    "    box = list(range (2, int(integer/2)+1))\n",
    "    for i in range(len(box)-1, -1, -1):\n",
    "        if(integer%box[i] != 0):\n",
    "            box.pop(i)\n",
    "            \n",
    "    if len(box) == 0:\n",
    "        return str(integer)+\" is prime\"\n",
    "    else:\n",
    "        return box\n",
    "    \n",
    "#OUTRAS SOLUCOES\n",
    "    \n",
    "#def divisors(num):\n",
    "#    l = [a for a in range(2,num) if num%a == 0]\n",
    "#    if len(l) == 0:\n",
    "#        return str(num) + \" is prime\"\n",
    "#    return l\n",
    "\n",
    "#def divisors(n):\n",
    "#    return [i for i in xrange(2, n) if not n % i] or '%d is prime' % n\n",
    "\n",
    "#def divisors(integer):\n",
    "#  return [n for n in range(2, integer) if integer % n == 0] or '{} is prime'.format(integer)"
   ]
  },
  {
   "cell_type": "code",
   "execution_count": 253,
   "metadata": {},
   "outputs": [],
   "source": [
    "def find_even_index(arr):\n",
    "    for i in range(1, len(arr)+1):\n",
    "        if sum(arr[:i-1]) == sum(arr[i:]):\n",
    "            return i-1\n",
    "    return -1\n",
    "\n",
    "#return ([i-1 for i in range(1, len(arr)+1) if (sum(arr[:i-1]) == sum(arr[i:]))])[0] or -1"
   ]
  },
  {
   "cell_type": "code",
   "execution_count": 259,
   "metadata": {},
   "outputs": [],
   "source": [
    "def get_sum(a,b):\n",
    "    return a if a == b else sum(range(min(a,b), max(a,b)+1))\n",
    "    \n",
    "# return sum(xrange(min(a,b), max(a,b)+1))"
   ]
  },
  {
   "cell_type": "code",
   "execution_count": 309,
   "metadata": {},
   "outputs": [],
   "source": [
    "def remove_smallest(numbers):\n",
    "    return [numbers[i] for i in range(0, len(numbers)) if i != numbers.index(min(numbers))]"
   ]
  },
  {
   "cell_type": "code",
   "execution_count": 32,
   "metadata": {},
   "outputs": [],
   "source": [
    "def rgb(r, g, b):\n",
    "    if r<0 :\n",
    "        r=0\n",
    "    if g<0 :\n",
    "        g=0\n",
    "    if b<0 :\n",
    "        b=0  \n",
    "    if r>255 :\n",
    "        r=255\n",
    "    if g>255 :\n",
    "        g=255\n",
    "    if b>255 :\n",
    "        b=255         \n",
    "        \n",
    "    return (format(r, '02x')+format(g, '02x')+format(b, '02x')).upper()\n",
    "\n",
    "#def rgb(r, g, b):\n",
    "#    def get_hex(s):\n",
    "#        if s > 255: s = 255\n",
    "#        if s < 0: s = 0\n",
    "#        return hex(s)[2:].upper() if len(hex(s)[2:]) > 1 else \"0\" + hex(s)[2:]\n",
    "#    return get_hex(r) + get_hex(g) + get_hex(b)\n",
    "\n",
    "\n",
    "#def rgb(r, g, b):\n",
    "#    round = lambda x: min(255, max(x, 0))\n",
    "#    return (\"{:02X}\" * 3).format(round(r), round(g), round(b))"
   ]
  },
  {
   "cell_type": "code",
   "execution_count": 112,
   "metadata": {},
   "outputs": [],
   "source": [
    "import operator\n",
    "ops = { \"+\": operator.add, \"-\": operator.sub, \"*\": operator.mul, \"/\" : operator.floordiv }\n",
    "\n",
    "def zero(*arg): \n",
    "    return 0 if len(arg) == 0 else ops[(arg[0][0])](0, (arg[0][1]))\n",
    "def one(*arg): \n",
    "    return 1 if len(arg) == 0 else ops[(arg[0][0])](1, (arg[0][1]))\n",
    "def two(*arg): \n",
    "    return 2 if len(arg) == 0 else ops[(arg[0][0])](2, (arg[0][1]))\n",
    "def three(*arg): \n",
    "    return 3 if len(arg) == 0 else ops[(arg[0][0])](3, (arg[0][1]))\n",
    "def four(*arg): \n",
    "    return 4 if len(arg) == 0 else ops[(arg[0][0])](4, (arg[0][1]))\n",
    "def five(*arg): \n",
    "    return 5 if len(arg) == 0 else ops[(arg[0][0])](5, (arg[0][1]))\n",
    "def six(*arg): \n",
    "    return 6 if len(arg) == 0 else ops[(arg[0][0])](6, (arg[0][1]))\n",
    "def seven(*arg): \n",
    "    return 7 if len(arg) == 0 else ops[(arg[0][0])](7, (arg[0][1]))\n",
    "def eight(*arg): \n",
    "    return 8 if len(arg) == 0 else ops[(arg[0][0])](8, (arg[0][1]))\n",
    "def nine(*arg): \n",
    "    return 9 if len(arg) == 0 else ops[(arg[0][0])](9, (arg[0][1]))\n",
    "\n",
    "\n",
    "def plus(number): \n",
    "    return ['+', number]\n",
    "def minus(number): \n",
    "    return ['-', number]\n",
    "def times(number): \n",
    "    return ['*', number]\n",
    "def divided_by(number): \n",
    "    return ['/', number]\n",
    "\n",
    "\n",
    "#MELHOR RESPOSTA\n",
    "#def zero(f = None): return 0 if not f else f(0)\n",
    "#def one(f = None): return 1 if not f else f(1)\n",
    "#def two(f = None): return 2 if not f else f(2)\n",
    "#def three(f = None): return 3 if not f else f(3)\n",
    "#def four(f = None): return 4 if not f else f(4)\n",
    "#def five(f = None): return 5 if not f else f(5)\n",
    "#def six(f = None): return 6 if not f else f(6)\n",
    "#def seven(f = None): return 7 if not f else f(7)\n",
    "#def eight(f = None): return 8 if not f else f(8)\n",
    "#def nine(f = None): return 9 if not f else f(9)\n",
    "\n",
    "#def plus(y): return lambda x: x+y\n",
    "#def minus(y): return lambda x: x-y\n",
    "#def times(y): return lambda  x: x*y\n",
    "#def divided_by(y): return lambda  x: x/y"
   ]
  },
  {
   "cell_type": "code",
   "execution_count": 181,
   "metadata": {},
   "outputs": [],
   "source": [
    "def solution(roman):\n",
    "    value = {'I': 1,'V': 5, 'X': 10, 'L': 50, 'C': 100, 'D': 500, 'M': 1000}  \n",
    "\n",
    "    box = [value[roman[i]] for i in range(len(roman))]\n",
    "    stack = []\n",
    "    res = 0\n",
    "    \n",
    "    for j in range(len(box)-1,-1,-1):\n",
    "        if (box[j] >= res):\n",
    "            res = box[j]\n",
    "            stack.append(box[j])\n",
    "        else:\n",
    "            stack.append(stack.pop()-box[j])\n",
    "    return sum(stack)       \n",
    "  \n",
    "#def solution(roman):\n",
    "#    d={'I':1, 'V':5 ,'X':10, 'L':50 ,'C':100, 'D':500,'M':1000}    \n",
    "#    return reduce(lambda x,y: x+y if x>=y else y-x , (d[c] for c in roman))"
   ]
  },
  {
   "cell_type": "code",
   "execution_count": 204,
   "metadata": {},
   "outputs": [],
   "source": [
    "def make_readable(seconds):\n",
    "    hold = seconds\n",
    "    HH = hold//3600\n",
    "    hold = hold%3600\n",
    "    MM = hold//60\n",
    "    hold = hold%60\n",
    "    SS = hold\n",
    "    return str(str('{:02d}'.format(HH))+\":\"+str('{:02d}'.format(MM))+\":\"+str('{:02d}'.format(SS)))\n",
    "\n",
    "#def make_readable(s):\n",
    "#    return '{:02}:{:02}:{:02}'.format(s / 3600, s / 60 % 60, s % 60)"
   ]
  },
  {
   "cell_type": "code",
   "execution_count": 302,
   "metadata": {},
   "outputs": [],
   "source": [
    "def comp(array1, array2):\n",
    "    if (array1 == None or array2 == None):\n",
    "        return False\n",
    "    if (len(array1) != len(array2)) :\n",
    "        return False\n",
    "    else:\n",
    "        return True if [i**2 for i in sorted(array1)] == sorted(array2) else False\n",
    "\n",
    "#def comp(a1, a2):\n",
    "#    return None not in (a1,a2) and [i*i for i in sorted(a1)]==sorted(a2)\n",
    "\n",
    "#def comp(a1, a2):\n",
    "#    return None not in (a1, a2) and all(x**2 == y for x, y in zip(sorted(a1), sorted(a2)))"
   ]
  },
  {
   "cell_type": "code",
   "execution_count": 7,
   "metadata": {},
   "outputs": [],
   "source": [
    "def solution(n):\n",
    "    return sum([i for i in range(n) if(i%3) == 0 or (i%5) == 0])"
   ]
  },
  {
   "cell_type": "code",
   "execution_count": 1,
   "metadata": {},
   "outputs": [],
   "source": [
    "def sum_pairs(ints, s):\n",
    "    index = []\n",
    "    for i in range(len(ints)):\n",
    "        for j in range(i+1, len(ints)):\n",
    "            if ints[i]+ ints[j] == s:\n",
    "                index.append([i/j,i,j])\n",
    "    if index == []:\n",
    "        return None\n",
    "    else:\n",
    "        print(index)\n",
    "        print(sorted(index))\n",
    "        index = sorted(index)[-1]\n",
    "        \n",
    "        return [ints[index[1]], ints[index[2]]]\n"
   ]
  },
  {
   "cell_type": "code",
   "execution_count": 12,
   "metadata": {},
   "outputs": [],
   "source": [
    "def _sum_pairs(ints, s):\n",
    "    ints = sorted(ints)\n",
    "    count = 0\n",
    "    for i in range(len(ints)-1):\n",
    "        if ints[i] > s:\n",
    "            return 0\n",
    "        else:\n",
    "            if ints[i]+ ints[i+1] == s:\n",
    "                count += 1\n",
    "    return count            \n"
   ]
  },
  {
   "cell_type": "code",
   "execution_count": 13,
   "metadata": {},
   "outputs": [
    {
     "data": {
      "text/plain": [
       "1"
      ]
     },
     "execution_count": 13,
     "metadata": {},
     "output_type": "execute_result"
    }
   ],
   "source": [
    "_sum_pairs([10, 5, 2, 3, 7, 5], 10)"
   ]
  },
  {
   "cell_type": "code",
   "execution_count": null,
   "metadata": {},
   "outputs": [],
   "source": []
  }
 ],
 "metadata": {
  "kernelspec": {
   "display_name": "Python 3",
   "language": "python",
   "name": "python3"
  },
  "language_info": {
   "codemirror_mode": {
    "name": "ipython",
    "version": 3
   },
   "file_extension": ".py",
   "mimetype": "text/x-python",
   "name": "python",
   "nbconvert_exporter": "python",
   "pygments_lexer": "ipython3",
   "version": "3.6.4"
  }
 },
 "nbformat": 4,
 "nbformat_minor": 2
}
