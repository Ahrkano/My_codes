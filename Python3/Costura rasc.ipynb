{
 "cells": [
  {
   "cell_type": "code",
   "execution_count": null,
   "metadata": {},
   "outputs": [],
   "source": [
    "class Node:\n",
    "    def __init__(self, chave=None, esquerda=None, direita=None, Lcostura=0, Rcostura=0):\n",
    "        self.chave = chave\n",
    "        self.esquerda = esquerda\n",
    "        self.direita  = direita\n",
    "        self.Lcostura = Lcostura\n",
    "        self.Rcostura = Rcostura\n",
    "        \n",
    "class Tree:\n",
    "    def __init__(self):\n",
    "        self.root = None\n",
    "        \n",
    "    def insert(self, value):\n",
    "        \n",
    "        \n",
    "        \n",
    "        if self.root == None:\n",
    "            self.root = Node(value, self.root, self.root, 0, 1)\n",
    "            \n",
    "        elif self.root.esquerda == root && self.root.direita == root:\n",
    "            leaf = Node(value, self.root.esquerda, self.root, self.root.Lcostura, 0)\n",
    "            self.root.esquerda = leaf\n",
    "            self.root.Rcostura = 1\n",
    "            \n",
    "        else:\n",
    "            temp = self.root.esquerda\n",
    "            while(True):\n",
    "                if leaf.chave < temp.chave:\n",
    "                    if temp.Lcostura == 0\n",
    "            "
   ]
  },
  {
   "cell_type": "code",
   "execution_count": null,
   "metadata": {},
   "outputs": [],
   "source": [
    "\n",
    "    \n",
    "    "
   ]
  },
  {
   "cell_type": "code",
   "execution_count": null,
   "metadata": {},
   "outputs": [],
   "source": [
    "Raiz = make_tree(999)"
   ]
  }
 ],
 "metadata": {
  "kernelspec": {
   "display_name": "Python 3",
   "language": "python",
   "name": "python3"
  },
  "language_info": {
   "codemirror_mode": {
    "name": "ipython",
    "version": 3
   },
   "file_extension": ".py",
   "mimetype": "text/x-python",
   "name": "python",
   "nbconvert_exporter": "python",
   "pygments_lexer": "ipython3",
   "version": "3.6.4"
  }
 },
 "nbformat": 4,
 "nbformat_minor": 2
}
