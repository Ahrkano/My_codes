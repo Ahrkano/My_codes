{
 "cells": [
  {
   "cell_type": "code",
   "execution_count": 38,
   "metadata": {},
   "outputs": [],
   "source": [
    "FIXED_IP = [2, 6, 3, 1, 4, 8, 5, 7]\n",
    "FIXED_EP = [4, 1, 2, 3, 2, 3, 4, 1]\n",
    "FIXED_IP_INVERSE = [4, 1, 3, 5, 7, 2, 8, 6]\n",
    "FIXED_P10 = [3, 5, 2, 7, 4, 10, 1, 9, 8, 6]\n",
    "FIXED_P8 = [6, 3, 7, 4, 8, 5, 10, 9]\n",
    "FIXED_P4 = [2, 4, 3, 1]\n",
    "\n",
    "S0 = [[1, 0, 3, 2],\n",
    "      [3, 2, 1, 0],\n",
    "      [0, 2, 1, 3],\n",
    "      [3, 1, 3, 2]]\n",
    "\n",
    "S1 = [[0, 1, 2, 3],\n",
    "      [2, 0, 1, 3],\n",
    "      [3, 0, 1, 0],\n",
    "      [2, 1, 0, 3]]\n",
    "\n",
    "KEY = '0111111101'\n",
    "\n",
    "\n",
    "def permutate(original, fixed_key):\n",
    "    new = ''\n",
    "    for i in fixed_key:\n",
    "        new += original[i - 1]\n",
    "    return new\n",
    "\n",
    "\n",
    "def left_half(bits):\n",
    "    return bits[:len(bits)//2]\n",
    "\n",
    "\n",
    "def right_half(bits):\n",
    "    return bits[len(bits)//2:]\n",
    "\n",
    "\n",
    "def shift(bits):\n",
    "    rotated_left_half = left_half(bits)[1:] + left_half(bits)[0]\n",
    "    rotated_right_half = right_half(bits)[1:] + right_half(bits)[0]\n",
    "    return rotated_left_half + rotated_right_half\n",
    "\n",
    "\n",
    "def key1():\n",
    "    return permutate(shift(permutate(KEY, FIXED_P10)), FIXED_P8)\n",
    "\n",
    "\n",
    "def key2():\n",
    "    return permutate(shift(shift(shift(permutate(KEY, FIXED_P10)))), FIXED_P8)\n",
    "\n",
    "\n",
    "def xor(bits, key):\n",
    "    new = ''\n",
    "    for bit, key_bit in zip(bits, key):\n",
    "        new += str(((int(bit) + int(key_bit)) % 2))\n",
    "    return new\n",
    "\n",
    "\n",
    "def lookup_in_sbox(bits, sbox):\n",
    "    row = int(bits[0] + bits[3], 2)\n",
    "    col = int(bits[1] + bits[2], 2)\n",
    "    return '{0:02b}'.format(sbox[row][col])\n",
    "\n",
    "\n",
    "def f_k(bits, key):\n",
    "    L = left_half(bits)\n",
    "    R = right_half(bits)\n",
    "    bits = permutate(R, FIXED_EP)\n",
    "    bits = xor(bits, key)\n",
    "    bits = lookup_in_sbox(left_half(bits), S0) + lookup_in_sbox(right_half(bits), S1)\n",
    "    bits = permutate(bits, FIXED_P4)\n",
    "    return xor(bits, L)\n",
    "\n",
    "\n",
    "def encrypt(plain_text):\n",
    "    bits = permutate(plain_text, FIXED_IP)\n",
    "    temp = f_k(bits, key1())\n",
    "    bits = right_half(bits) + temp\n",
    "    bits = f_k(bits, key2())\n",
    "    res = permutate(bits + temp, FIXED_IP_INVERSE)\n",
    "    #print (res)\n",
    "    return res\n",
    "\n",
    "\n",
    "def decrypt(cipher_text):\n",
    "    bits = permutate(cipher_text, FIXED_IP)\n",
    "    temp = f_k(bits, key2())\n",
    "    bits = right_half(bits) + temp\n",
    "    bits = f_k(bits, key1())\n",
    "    res = permutate(bits + temp, FIXED_IP_INVERSE)\n",
    "    #print (res)\n",
    "    return res"
   ]
  },
  {
   "cell_type": "code",
   "execution_count": 41,
   "metadata": {},
   "outputs": [
    {
     "name": "stdout",
     "output_type": "stream",
     "text": [
      "10100010\n",
      "11101010\n"
     ]
    }
   ],
   "source": [
    "ENC = encrypt('11101010')\n",
    "DEC = decrypt('10100010')"
   ]
  },
  {
   "cell_type": "code",
   "execution_count": 64,
   "metadata": {},
   "outputs": [],
   "source": [
    "def encrypt_string(text):\n",
    "    res = []\n",
    "    for i in text:\n",
    "        res.append(encrypt(format(ord(i), '08b')))\n",
    "    return res"
   ]
  },
  {
   "cell_type": "code",
   "execution_count": 70,
   "metadata": {},
   "outputs": [],
   "source": [
    "def decrypt_string(aux):\n",
    "    lk = []\n",
    "    for i in aux:\n",
    "        lk.append(chr(int(decrypt(i),2)))\n",
    "    return \"\".join(lk)"
   ]
  },
  {
   "cell_type": "code",
   "execution_count": 66,
   "metadata": {},
   "outputs": [
    {
     "name": "stdout",
     "output_type": "stream",
     "text": [
      "11000011\n",
      "10101010\n",
      "11010001\n"
     ]
    }
   ],
   "source": [
    "aux = encrypt_string(\"ola\")"
   ]
  },
  {
   "cell_type": "code",
   "execution_count": 71,
   "metadata": {},
   "outputs": [
    {
     "name": "stdout",
     "output_type": "stream",
     "text": [
      "01101111\n",
      "01101100\n",
      "01100001\n"
     ]
    },
    {
     "data": {
      "text/plain": [
       "'ola'"
      ]
     },
     "execution_count": 71,
     "metadata": {},
     "output_type": "execute_result"
    }
   ],
   "source": [
    "decrypt_string(aux)"
   ]
  }
 ],
 "metadata": {
  "kernelspec": {
   "display_name": "Python 3",
   "language": "python",
   "name": "python3"
  },
  "language_info": {
   "codemirror_mode": {
    "name": "ipython",
    "version": 3
   },
   "file_extension": ".py",
   "mimetype": "text/x-python",
   "name": "python",
   "nbconvert_exporter": "python",
   "pygments_lexer": "ipython3",
   "version": "3.6.4"
  }
 },
 "nbformat": 4,
 "nbformat_minor": 2
}
