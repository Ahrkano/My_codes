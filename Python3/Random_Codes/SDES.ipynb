{
 "cells": [
  {
   "cell_type": "code",
   "execution_count": 74,
   "metadata": {},
   "outputs": [],
   "source": [
    "FIXED_IP = [2, 6, 3, 1, 4, 8, 5, 7]\n",
    "FIXED_EP = [4, 1, 2, 3, 2, 3, 4, 1]\n",
    "FIXED_IP_INVERSE = [4, 1, 3, 5, 7, 2, 8, 6]\n",
    "FIXED_P10 = [3, 5, 2, 7, 4, 10, 1, 9, 8, 6]\n",
    "FIXED_P8 = [6, 3, 7, 4, 8, 5, 10, 9]\n",
    "FIXED_P4 = [2, 4, 3, 1]\n",
    "\n",
    "S0 = [[1, 0, 3, 2],\n",
    "      [3, 2, 1, 0],\n",
    "      [0, 2, 1, 3],\n",
    "      [3, 1, 3, 2]]\n",
    "\n",
    "S1 = [[0, 1, 2, 3],\n",
    "      [2, 0, 1, 3],\n",
    "      [3, 0, 1, 0],\n",
    "      [2, 1, 0, 3]]\n",
    "\n",
    "def permutate(original, fixed_key):\n",
    "    new = ''\n",
    "    for i in fixed_key:\n",
    "        new += original[i - 1]\n",
    "    return new\n",
    "\n",
    "\n",
    "def left_half(bits):\n",
    "    return bits[:len(bits)//2]\n",
    "\n",
    "\n",
    "def right_half(bits):\n",
    "    return bits[len(bits)//2:]\n",
    "\n",
    "\n",
    "def shift(bits):\n",
    "    rotated_left_half = left_half(bits)[1:] + left_half(bits)[0]\n",
    "    rotated_right_half = right_half(bits)[1:] + right_half(bits)[0]\n",
    "    return rotated_left_half + rotated_right_half\n",
    "\n",
    "\n",
    "def key1():\n",
    "    return permutate(shift(permutate(KEY, FIXED_P10)), FIXED_P8)\n",
    "\n",
    "\n",
    "def key2():\n",
    "    return permutate(shift(shift(shift(permutate(KEY, FIXED_P10)))), FIXED_P8)\n",
    "\n",
    "\n",
    "def xor(bits, key):\n",
    "    new = ''\n",
    "    for bit, key_bit in zip(bits, key):\n",
    "        new += str(((int(bit) + int(key_bit)) % 2))\n",
    "    return new\n",
    "\n",
    "\n",
    "def lookup_in_sbox(bits, sbox):\n",
    "    row = int(bits[0] + bits[3], 2)\n",
    "    col = int(bits[1] + bits[2], 2)\n",
    "    return '{0:02b}'.format(sbox[row][col])\n",
    "\n",
    "\n",
    "def f_k(bits, key):\n",
    "    L = left_half(bits)\n",
    "    R = right_half(bits)\n",
    "    bits = permutate(R, FIXED_EP)\n",
    "    bits = xor(bits, key)\n",
    "    bits = lookup_in_sbox(left_half(bits), S0) + lookup_in_sbox(right_half(bits), S1)\n",
    "    bits = permutate(bits, FIXED_P4)\n",
    "    return xor(bits, L)\n",
    "\n",
    "\n",
    "def encrypt(plain_text):\n",
    "    bits = permutate(plain_text, FIXED_IP)\n",
    "    temp = f_k(bits, key1())\n",
    "    bits = right_half(bits) + temp\n",
    "    bits = f_k(bits, key2())\n",
    "    res = permutate(bits + temp, FIXED_IP_INVERSE)\n",
    "    return res\n",
    "\n",
    "\n",
    "def decrypt(cipher_text):\n",
    "    bits = permutate(cipher_text, FIXED_IP)\n",
    "    temp = f_k(bits, key2())\n",
    "    bits = right_half(bits) + temp\n",
    "    bits = f_k(bits, key1())\n",
    "    res = permutate(bits + temp, FIXED_IP_INVERSE)\n",
    "    #print (res)\n",
    "    return res\n",
    "\n",
    "def encrypt_string(text):\n",
    "    res = []\n",
    "    view = ''\n",
    "    lk = ''\n",
    "    for i in text:\n",
    "        #res.append(chr(int(encrypt(format(ord(i), '08b')),2)))\n",
    "        lk = encrypt(format(ord(i), '08b'))\n",
    "        res.append(lk)\n",
    "        view += (chr(int(lk,2)))\n",
    "    print(view)\n",
    "    return res\n",
    "\n",
    "def decrypt_string(aux):\n",
    "    lk = []\n",
    "    for i in aux:\n",
    "        lk.append(chr(int(decrypt(i),2)))\n",
    "    return \"\".join(lk)\n",
    "\n",
    "def string_to_list(string):\n",
    "    box = ''\n",
    "    for i in range(0, len(string)) :\n",
    "        if i%8 == 0 and i > 0:\n",
    "            box += 'x'\n",
    "        box += string[i]\n",
    "    return (box.split('x'))\n",
    "\n",
    "def SDES(key, text): \n",
    "    global KEY \n",
    "    KEY = key\n",
    "    tmp = (encrypt_string(text))\n",
    "    return \"\".join(tmp)\n",
    "\n",
    "def SDES_Decode(key, text):\n",
    "    global KEY \n",
    "    KEY = key\n",
    "    tmp = string_to_list(text)\n",
    "    return decrypt_string(tmp)\n"
   ]
  },
  {
   "cell_type": "code",
   "execution_count": 73,
   "metadata": {},
   "outputs": [
    {
     "name": "stdout",
     "output_type": "stream",
     "text": [
      "\"øèLZ/\r",
      "/©\u0006\n"
     ]
    },
    {
     "data": {
      "text/plain": [
       "'00100010111110001110100001001100010110100010111100001101001011111010100100000110'"
      ]
     },
     "execution_count": 73,
     "metadata": {},
     "output_type": "execute_result"
    }
   ],
   "source": [
    "(SDES(\"1010000010\",\"Technology\" ))"
   ]
  },
  {
   "cell_type": "code",
   "execution_count": 71,
   "metadata": {
    "scrolled": true
   },
   "outputs": [
    {
     "data": {
      "text/plain": [
       "'Technology'"
      ]
     },
     "execution_count": 71,
     "metadata": {},
     "output_type": "execute_result"
    }
   ],
   "source": [
    "SDES_Decode(\"1010000010\",'00100010111110001110100001001100010110100010111100001101001011111010100100000110')"
   ]
  },
  {
   "cell_type": "code",
   "execution_count": 9,
   "metadata": {},
   "outputs": [
    {
     "name": "stdout",
     "output_type": "stream",
     "text": [
      "encrypted:  100011011000110110001101100011011000110110001101100011011000110110001101100011011000110110001101100011011000110110001101100011011000110110001101100011011000110110001101100011011000110110001101100011011000110110001101100011011000110110001101100011011000110110001101100011011000110110001101100011011000110110001101100011011000110110001101100011011000110110001101100011011000110110001101100011011000110110001101100011011000110110001101100011011000110110001101100011011000110110001101100011011000110110001101100011011000110110001101100011011000110110001101100011011000110110001101100011011000110110001101100011011000110110001101100011011000110110001101100011011000110110001101100011011000110110001101100011011000110110001101100011011000110110001101100011011000110110001101100011011000110110001101100011011000110110001101100011011000110110001101100011011000110110001101100011011000110110001101100011011000110110001101\n"
     ]
    }
   ],
   "source": [
    "#example\n",
    "#KEY= '1100100001'\n",
    "#CODE = encrypt_string(\"Technology is a way of organizing the universe so that man doesn't have to experience it.\")\n",
    "#DECODE = decrypt_string(CODE)"
   ]
  },
  {
   "cell_type": "code",
   "execution_count": 109,
   "metadata": {},
   "outputs": [],
   "source": [
    "#res = '110001011101101110110101010001111100011111111110110001101111111011010000110100110010100101001100000101100010100101011110001010010111001101011110110100110010100111111110101010010010100111111110001001101101000001011110110001110100110011001001010011001100011111010000001010010110100101000111110110110010100101001010110001110100110010100111110110110010011000010110110110110010100100010110111111100010100101101001010001110101111001101001001010010000110101011110110001110010100111111100111111101101101100010110110001110100010001101001001010010100011101011110101001111101101100101001011010011111111000101001110110110000011100101000110110110010011001001100110110111100011110110101110110110010100101001100011010010001011111111010'\n",
    "#print(\"Expected:\", res)"
   ]
  },
  {
   "cell_type": "code",
   "execution_count": 110,
   "metadata": {},
   "outputs": [
    {
     "name": "stdout",
     "output_type": "stream",
     "text": [
      "enter msg :\n",
      "teste de chave\n",
      "encrypted:  11010011101101110110110100111011011101001111111001101101110100110110101100011110111101010011111011011\n",
      "decrypted:  teste de chave\n"
     ]
    }
   ],
   "source": [
    "#def main():\n",
    "#    print('enter msg :')\n",
    "#    word = input()\n",
    "#    _in = encrypt_string(word)\n",
    "#    print(\"encrypted: \",   show_code(_in))\n",
    "#    _out = decrypt_string(_in)\n",
    "#    print(\"decrypted: \", _out)\n",
    "#    \n",
    "#if __name__ == \"__main__\":\n",
    "#\n",
    "#    main()"
   ]
  }
 ],
 "metadata": {
  "kernelspec": {
   "display_name": "Python 3",
   "language": "python",
   "name": "python3"
  },
  "language_info": {
   "codemirror_mode": {
    "name": "ipython",
    "version": 3
   },
   "file_extension": ".py",
   "mimetype": "text/x-python",
   "name": "python",
   "nbconvert_exporter": "python",
   "pygments_lexer": "ipython3",
   "version": "3.6.4"
  }
 },
 "nbformat": 4,
 "nbformat_minor": 2
}
