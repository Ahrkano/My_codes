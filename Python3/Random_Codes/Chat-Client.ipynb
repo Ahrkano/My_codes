{
 "cells": [
  {
   "cell_type": "code",
   "execution_count": 1,
   "metadata": {},
   "outputs": [],
   "source": [
    "%%capture\n",
    "%run RC4.ipynb\n",
    "%run SDES.ipynb\n",
    "\n",
    "import socket\n",
    "from _thread import start_new_thread\n",
    "\n",
    "key = None\n",
    "cipher = None\n",
    "ciphers = {'rc4': RC4, 'sdes': SDES}\n",
    "server = None\n",
    "\n",
    "def listen_server():\n",
    "    while server:\n",
    "        try:\n",
    "            show_msg(server.recv(2048))\n",
    "        except:\n",
    "            pass\n",
    "\n",
    "def stop_client():\n",
    "    global key\n",
    "    global cipher\n",
    "    global server\n",
    "    key = None\n",
    "    cipher = None\n",
    "    if server:\n",
    "        server.close()\n",
    "        server = None\n",
    "\n",
    "def start_client(ip, port):\n",
    "    global server\n",
    "    stop_client()\n",
    "    server = socket.socket(socket.AF_INET, socket.SOCK_STREAM)\n",
    "    server.connect((ip, port))\n",
    "    start_new_thread(listen_server, ())\n",
    "\n",
    "def command_check(text):\n",
    "    global key\n",
    "    global cipher\n",
    "    if text[:6] == '\\crypt':\n",
    "        cipher = ciphers.get(text[7:text.find(' ', 8)])\n",
    "        if cipher:\n",
    "            key = text[text.find(' ', 8)+1:]\n",
    "        else:\n",
    "            key = None\n",
    "        return False\n",
    "    return True\n",
    "\n",
    "def show_msg(text):\n",
    "    text = str(text, 'utf-8')\n",
    "    if command_check(text) and cipher:\n",
    "        print('Server :', cipher(key, text))\n",
    "    else:\n",
    "        print('Server :', text)\n",
    "\n",
    "def send_msg(text):\n",
    "    try:\n",
    "        if command_check(text) and cipher:\n",
    "            server.send(cipher(key, text).encode())\n",
    "        else:\n",
    "            server.send(bytes(text, 'utf-8'))\n",
    "    except:\n",
    "        pass"
   ]
  },
  {
   "cell_type": "code",
   "execution_count": 2,
   "metadata": {},
   "outputs": [],
   "source": [
    "start_client('localhost', 5354)"
   ]
  },
  {
   "cell_type": "code",
   "execution_count": 3,
   "metadata": {},
   "outputs": [
    {
     "name": "stdout",
     "output_type": "stream",
     "text": [
      "Server : Hello\n"
     ]
    }
   ],
   "source": [
    "send_msg('Hello')"
   ]
  },
  {
   "cell_type": "code",
   "execution_count": 4,
   "metadata": {},
   "outputs": [],
   "source": [
    "stop_client()"
   ]
  }
 ],
 "metadata": {
  "kernelspec": {
   "display_name": "Python 3",
   "language": "python",
   "name": "python3"
  },
  "language_info": {
   "codemirror_mode": {
    "name": "ipython",
    "version": 3
   },
   "file_extension": ".py",
   "mimetype": "text/x-python",
   "name": "python",
   "nbconvert_exporter": "python",
   "pygments_lexer": "ipython3",
   "version": "3.6.4"
  }
 },
 "nbformat": 4,
 "nbformat_minor": 2
}
