{
 "cells": [
  {
   "cell_type": "code",
   "execution_count": 1,
   "metadata": {},
   "outputs": [],
   "source": [
    "%%capture\n",
    "%run RC4.ipynb\n",
    "%run SDES.ipynb\n",
    "%run Diffie-Hellman.ipynb\n",
    "\n",
    "import socket\n",
    "from _thread import start_new_thread\n",
    "\n",
    "key = None\n",
    "cipher = None\n",
    "ciphers = {'rc4': RC4, 'sdes': SDES}\n",
    "server = None\n",
    "\n",
    "def listen_server():\n",
    "    while server:\n",
    "        try:\n",
    "            show_msg(server.recv(2048))\n",
    "        except:\n",
    "            pass\n",
    "\n",
    "def stop_client():\n",
    "    global key\n",
    "    global cipher\n",
    "    global server\n",
    "    key = None\n",
    "    cipher = None\n",
    "    if server:\n",
    "        server.close()\n",
    "        server = None\n",
    "\n",
    "def start_client(ip, port):\n",
    "    global server\n",
    "    stop_client()\n",
    "    server = socket.socket(socket.AF_INET, socket.SOCK_STREAM)\n",
    "    server.connect((ip, port))\n",
    "    start_new_thread(listen_server, ())\n",
    "\n",
    "def command_check(text):\n",
    "    global key\n",
    "    global cipher\n",
    "    if text[:6] == '\\crypt':\n",
    "        cipher = ciphers.get(text[7:text.find(' ', 8)])\n",
    "        if cipher:\n",
    "            key = text[text.find(' ', 8)+1:]\n",
    "        else:\n",
    "            key = None\n",
    "        return False\n",
    "    return True\n",
    "\n",
    "def show_msg(text):\n",
    "    text = str(text, 'utf-8')\n",
    "    if command_check(text) and cipher:\n",
    "        print('Server :', cipher(key, text))\n",
    "    else:\n",
    "        print('Server :', text)\n",
    "\n",
    "def send_msg(text):\n",
    "    try:\n",
    "        if command_check(text) and cipher:\n",
    "            server.send(cipher(key, text).encode())\n",
    "        else:\n",
    "            server.send(bytes(text, 'utf-8'))\n",
    "    except:\n",
    "        pass"
   ]
  },
  {
   "cell_type": "code",
   "execution_count": 2,
   "metadata": {},
   "outputs": [
    {
     "name": "stdout",
     "output_type": "stream",
     "text": [
      "Server : Hello\n"
     ]
    }
   ],
   "source": [
    "start_client('localhost', 5354)"
   ]
  },
  {
   "cell_type": "code",
   "execution_count": 14,
   "metadata": {},
   "outputs": [
    {
     "name": "stdout",
     "output_type": "stream",
     "text": [
      "Server : 248\n"
     ]
    }
   ],
   "source": [
    "send_msg(str(diffie_hellman_public(353,3,97)))"
   ]
  },
  {
   "cell_type": "code",
   "execution_count": 16,
   "metadata": {},
   "outputs": [
    {
     "name": "stdout",
     "output_type": "stream",
     "text": [
      "160\n"
     ]
    }
   ],
   "source": [
    "print(diffie_hellman_key(353,97,248))"
   ]
  },
  {
   "cell_type": "code",
   "execution_count": 4,
   "metadata": {},
   "outputs": [],
   "source": [
    "stop_client()"
   ]
  },
  {
   "cell_type": "code",
   "execution_count": null,
   "metadata": {},
   "outputs": [],
   "source": [
    "# \\crypt [sdes | rc4 | none] [key]\n",
    "# tudo UTF-8\n",
    "\n",
    "# Exemplos:\n",
    "# \\crypt sdes \"1010101010\"\n",
    "# \\crypt rc4 \"key\"\n",
    "# \\crypt none\n",
    "\n",
    "# diffie_hellman_public(prime, alfa, MY_SECRET_NUMBER)\n",
    "# diffie_hellman_key(prime, source_secret, destination_public_key)\n",
    "\n",
    "# prime = 353\n",
    "# alfa = 3"
   ]
  }
 ],
 "metadata": {
  "kernelspec": {
   "display_name": "Python 3",
   "language": "python",
   "name": "python3"
  },
  "language_info": {
   "codemirror_mode": {
    "name": "ipython",
    "version": 3
   },
   "file_extension": ".py",
   "mimetype": "text/x-python",
   "name": "python",
   "nbconvert_exporter": "python",
   "pygments_lexer": "ipython3",
   "version": "3.6.4"
  }
 },
 "nbformat": 4,
 "nbformat_minor": 2
}
