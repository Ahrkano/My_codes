{
 "cells": [
  {
   "cell_type": "code",
   "execution_count": 1,
   "metadata": {},
   "outputs": [
    {
     "data": {
      "text/plain": [
       "6440"
      ]
     },
     "execution_count": 1,
     "metadata": {},
     "output_type": "execute_result"
    },
    {
     "name": "stdout",
     "output_type": "stream",
     "text": [
      "10.19.1.127 : b'hey jude'\n"
     ]
    }
   ],
   "source": [
    "import socket\n",
    "from _thread import *\n",
    "\n",
    "server = socket.socket(socket.AF_INET, socket.SOCK_STREAM)\n",
    "#usar ip local\n",
    "IP_address = '10.19.1.127'\n",
    "Port = 5354\n",
    "server.connect((IP_address, Port))\n",
    "sockets_list = [server]\n",
    "\n",
    "def exec():\n",
    "    while True:\n",
    "        try:\n",
    "            message = server.recv(2048)\n",
    "            if message:\n",
    "                print(IP_address, ':', message)\n",
    "        except:\n",
    "            continue\n",
    "\n",
    "start_new_thread(exec, ())\n",
    "# server.close()"
   ]
  },
  {
   "cell_type": "code",
   "execution_count": 2,
   "metadata": {},
   "outputs": [
    {
     "data": {
      "text/plain": [
       "8"
      ]
     },
     "execution_count": 2,
     "metadata": {},
     "output_type": "execute_result"
    },
    {
     "name": "stdout",
     "output_type": "stream",
     "text": [
      "10.19.1.127 : b'how u goin?'\n"
     ]
    }
   ],
   "source": [
    "server.send(b'hey mike')"
   ]
  },
  {
   "cell_type": "code",
   "execution_count": 3,
   "metadata": {},
   "outputs": [
    {
     "data": {
      "text/plain": [
       "4"
      ]
     },
     "execution_count": 3,
     "metadata": {},
     "output_type": "execute_result"
    }
   ],
   "source": [
    "server.send(b'fine')"
   ]
  }
 ],
 "metadata": {
  "kernelspec": {
   "display_name": "Python 3",
   "language": "python",
   "name": "python3"
  },
  "language_info": {
   "codemirror_mode": {
    "name": "ipython",
    "version": 3
   },
   "file_extension": ".py",
   "mimetype": "text/x-python",
   "name": "python",
   "nbconvert_exporter": "python",
   "pygments_lexer": "ipython3",
   "version": "3.6.4"
  }
 },
 "nbformat": 4,
 "nbformat_minor": 2
}
