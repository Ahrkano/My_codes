{
 "cells": [
  {
   "cell_type": "code",
   "execution_count": 1,
   "metadata": {},
   "outputs": [
    {
     "data": {
      "text/plain": [
       "16480"
      ]
     },
     "execution_count": 1,
     "metadata": {},
     "output_type": "execute_result"
    },
    {
     "name": "stdout",
     "output_type": "stream",
     "text": [
      "10.19.1.127 connected!\n"
     ]
    }
   ],
   "source": [
    "import socket\n",
    "from _thread import *\n",
    "\n",
    "server = socket.socket(socket.AF_INET, socket.SOCK_STREAM)\n",
    "server.setsockopt(socket.SOL_SOCKET, socket.SO_REUSEADDR, 1)\n",
    "\n",
    "#usar ip local\n",
    "IP_address = '10.19.1.127'\n",
    "Port = 5354\n",
    "server.bind((IP_address, Port))\n",
    "server.listen(100)\n",
    "clients = []\n",
    "\n",
    "def clientthread(conn, addr):\n",
    "    print(addr[0], 'connected!')\n",
    "    clients.append([addr[0], conn])\n",
    "\n",
    "    while True:\n",
    "        try:\n",
    "            message = conn.recv(2048)\n",
    "            if message:\n",
    "                print(addr[0], ':', message)\n",
    "\n",
    "        except:\n",
    "            continue\n",
    "\n",
    "def exec():\n",
    "    while True:\n",
    "        conn, addr = server.accept()\n",
    "        start_new_thread(clientthread,(conn,addr))\n",
    "\n",
    "start_new_thread(exec, ())\n",
    "# conn.close()\n",
    "# server.close()"
   ]
  },
  {
   "cell_type": "code",
   "execution_count": 2,
   "metadata": {},
   "outputs": [
    {
     "data": {
      "text/plain": [
       "8"
      ]
     },
     "execution_count": 2,
     "metadata": {},
     "output_type": "execute_result"
    },
    {
     "name": "stdout",
     "output_type": "stream",
     "text": [
      "10.19.1.127 : b'hey mike'\n"
     ]
    }
   ],
   "source": [
    "clients[0][1].send(b'hey jude')"
   ]
  },
  {
   "cell_type": "code",
   "execution_count": 3,
   "metadata": {},
   "outputs": [
    {
     "data": {
      "text/plain": [
       "11"
      ]
     },
     "execution_count": 3,
     "metadata": {},
     "output_type": "execute_result"
    },
    {
     "name": "stdout",
     "output_type": "stream",
     "text": [
      "10.19.1.127 : b'fine'\n"
     ]
    }
   ],
   "source": [
    "clients[0][1].send(b'how u goin?')"
   ]
  }
 ],
 "metadata": {
  "kernelspec": {
   "display_name": "Python 3",
   "language": "python",
   "name": "python3"
  },
  "language_info": {
   "codemirror_mode": {
    "name": "ipython",
    "version": 3
   },
   "file_extension": ".py",
   "mimetype": "text/x-python",
   "name": "python",
   "nbconvert_exporter": "python",
   "pygments_lexer": "ipython3",
   "version": "3.6.4"
  }
 },
 "nbformat": 4,
 "nbformat_minor": 2
}
