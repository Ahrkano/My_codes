{
 "cells": [
  {
   "cell_type": "code",
   "execution_count": 1,
   "metadata": {},
   "outputs": [],
   "source": [
    "%%capture\n",
    "%run RC4.ipynb\n",
    "%run SDES.ipynb\n",
    "%run Diffie-Hellman.ipynb\n",
    "\n",
    "import socket\n",
    "from _thread import start_new_thread\n",
    "\n",
    "key = None\n",
    "cipher = None\n",
    "ciphers = {'rc4': RC4, 'sdes': SDES}\n",
    "clients = []\n",
    "server = None\n",
    "\n",
    "def listen_client(client, addr):\n",
    "    print(addr[0], 'connected!')\n",
    "    clients.append([addr[0], client])\n",
    "    while clients:\n",
    "        try:\n",
    "            show_msg(addr[0], client.recv(2048))\n",
    "        except:\n",
    "            pass\n",
    "\n",
    "def listen_server():\n",
    "    while server:\n",
    "        try:\n",
    "            conn, addr = server.accept()\n",
    "            start_new_thread(listen_client, (conn, addr))\n",
    "        except:\n",
    "            pass\n",
    "\n",
    "def stop_server():\n",
    "    global key\n",
    "    global cipher\n",
    "    global clients\n",
    "    global server\n",
    "    key = None\n",
    "    cipher = None\n",
    "    for client in clients:\n",
    "        client[1].close()\n",
    "    clients = []\n",
    "    if server:\n",
    "        server.close()\n",
    "        server = None\n",
    "\n",
    "def start_server(ip, port):\n",
    "    global server\n",
    "    stop_server()\n",
    "    server = socket.socket(socket.AF_INET, socket.SOCK_STREAM)\n",
    "    server.setsockopt(socket.SOL_SOCKET, socket.SO_REUSEADDR, 1)\n",
    "    server.bind((ip, port))\n",
    "    server.listen(100)\n",
    "    start_new_thread(listen_server, ())\n",
    "\n",
    "def command_check(text):\n",
    "    global key\n",
    "    global cipher\n",
    "    if text[:6] == '\\crypt':\n",
    "        cipher = ciphers.get(text[7:text.find(' ', 8)])\n",
    "        if cipher:\n",
    "            key = text[text.find(' ', 8)+1:]\n",
    "        else:\n",
    "            key = None\n",
    "        return False\n",
    "    return True\n",
    "\n",
    "def show_msg(ip, text):\n",
    "    text = str(text, 'utf-8')\n",
    "    if command_check(text) and cipher:\n",
    "        print(ip, ':', cipher(key, text))\n",
    "    else:\n",
    "        print(ip, ':', text)\n",
    "\n",
    "def list_clients():\n",
    "    for c in clients:\n",
    "        print(c[0])\n",
    "\n",
    "def send_msg(ip, text):\n",
    "    for client in clients:\n",
    "        if client[0] == ip:\n",
    "            try:\n",
    "                if command_check(text) and cipher:\n",
    "                    client[1].send(cipher(key, text).encode())\n",
    "                else:\n",
    "                    client[1].send(bytes(text, 'utf-8'))\n",
    "            except:\n",
    "                pass"
   ]
  },
  {
   "cell_type": "code",
   "execution_count": 2,
   "metadata": {},
   "outputs": [
    {
     "name": "stdout",
     "output_type": "stream",
     "text": [
      "127.0.0.1 connected!\n"
     ]
    }
   ],
   "source": [
    "start_server('localhost', 5354)"
   ]
  },
  {
   "cell_type": "code",
   "execution_count": 3,
   "metadata": {},
   "outputs": [
    {
     "name": "stdout",
     "output_type": "stream",
     "text": [
      "127.0.0.1\n"
     ]
    }
   ],
   "source": [
    "list_clients()"
   ]
  },
  {
   "cell_type": "code",
   "execution_count": 8,
   "metadata": {
    "scrolled": true
   },
   "outputs": [],
   "source": [
    "send_msg('127.0.0.1', str(diffie_hellman_public(353,3,233)))"
   ]
  },
  {
   "cell_type": "code",
   "execution_count": 7,
   "metadata": {},
   "outputs": [
    {
     "name": "stdout",
     "output_type": "stream",
     "text": [
      "160\n"
     ]
    }
   ],
   "source": [
    "print(diffie_hellman_key(353,233,40))"
   ]
  },
  {
   "cell_type": "code",
   "execution_count": 5,
   "metadata": {
    "scrolled": true
   },
   "outputs": [],
   "source": [
    "stop_server()"
   ]
  },
  {
   "cell_type": "code",
   "execution_count": null,
   "metadata": {},
   "outputs": [],
   "source": [
    "# Faltando\n",
    "# no início: Trocar chave de sessão usando Diffie-Hellman, configurar q e alfa\n",
    "\n",
    "# \\crypt [sdes | rc4 | none] [key]\n",
    "# tudo UTF-8\n",
    "\n",
    "# Exemplos:\n",
    "# \\crypt sdes \"1010101010\"\n",
    "# \\crypt rc4 \"key\"\n",
    "# \\crypt none\n",
    "\n",
    "# diffie_hellman_public(prime, alfa, MY_SECRET_NUMBER)\n",
    "# diffie_hellman_key(prime, source_secret, destination_public_key)\n",
    "\n",
    "# prime = 353\n",
    "# alfa = 3"
   ]
  }
 ],
 "metadata": {
  "kernelspec": {
   "display_name": "Python 3",
   "language": "python",
   "name": "python3"
  },
  "language_info": {
   "codemirror_mode": {
    "name": "ipython",
    "version": 3
   },
   "file_extension": ".py",
   "mimetype": "text/x-python",
   "name": "python",
   "nbconvert_exporter": "python",
   "pygments_lexer": "ipython3",
   "version": "3.6.4"
  }
 },
 "nbformat": 4,
 "nbformat_minor": 2
}
